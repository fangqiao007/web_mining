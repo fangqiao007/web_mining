{
 "cells": [
  {
   "cell_type": "markdown",
   "metadata": {
    "slideshow": {
     "slide_type": "fragment"
    }
   },
   "source": [
    "# 抄用最人性化的模块\n",
    "* 来源 [最新的爬虫工具requests-html](https://www.cnblogs.com/fnng/p/8948015.html)\n",
    "* 文档 [requests-html](https://requests-html.kennethreitz.org/)\n",
    "\n",
    "###  项目0.A cnblogs 新闻"
   ]
  },
  {
   "cell_type": "code",
   "execution_count": 2,
   "metadata": {
    "slideshow": {
     "slide_type": "subslide"
    }
   },
   "outputs": [
    {
     "name": "stdout",
     "output_type": "stream",
     "text": [
      "马云给高中生写了一份信，三年后，让全世界都来考数学\n",
      "{'https://news.cnblogs.com/n/658169/'}\n",
      "怀疑开发者在“造核弹”？GitHub 不断封禁开源项目\n",
      "{'https://news.cnblogs.com/n/658107/'}\n",
      "AMD 发布 Ryzen 9 系列移动 CPU，笔记本市场变天了么？\n",
      "{'https://news.cnblogs.com/n/658087/'}\n",
      "为什么阿里喜欢全面并购，腾讯喜欢战略投资？\n",
      "{'https://news.cnblogs.com/n/658059/'}\n",
      "从百度掉队谈起：给百度开药，其实只有一条\n",
      "{'https://news.cnblogs.com/n/658007/'}\n",
      "支付宝若要击败美团，难度到底有多大？\n",
      "{'https://news.cnblogs.com/n/658006/'}\n",
      "追踪网赚游戏：是谁割了你，而你又割了谁？\n",
      "{'https://news.cnblogs.com/n/657964/'}\n",
      "成本480万的《三体》改编动画，如何做到9.9分？\n",
      "{'https://news.cnblogs.com/n/657962/'}\n",
      "互联网公司的灰色战争\n",
      "{'https://news.cnblogs.com/n/657960/'}\n",
      "图灵奖背后：一个奥斯卡拿到手软，一个公司卖了160亿\n",
      "{'https://news.cnblogs.com/n/657944/'}\n",
      "一个叫“郭红”的人 炮制了朋友圈所有的“世界失控”\n",
      "{'https://news.cnblogs.com/n/657930/'}\n",
      ".NET 5 Preview 1 发布\n",
      "{'https://news.cnblogs.com/n/657924/'}\n",
      "一堂司法网课和它的主讲老师为什么突然火了？\n",
      "{'https://news.cnblogs.com/n/657877/'}\n",
      "丑闻上身Soul：我本小师妹，怎么就活成了灭绝师太？\n",
      "{'https://news.cnblogs.com/n/657875/'}\n",
      "GitHub移动应用正式上架 不可编辑代码，支持“社交”\n",
      "{'https://news.cnblogs.com/n/657863/'}\n",
      "Visual Studio 2019 16.5 发布\n",
      "{'https://news.cnblogs.com/n/657861/'}\n",
      "雷军的贪婪时刻：两个月密集投资8家芯片公司\n",
      "{'https://news.cnblogs.com/n/657860/'}\n",
      "沸腾十年：不可逆转的国产替代潮\n",
      "{'https://news.cnblogs.com/n/657848/'}\n"
     ]
    }
   ],
   "source": [
    "from requests_html import HTMLSession\n",
    "#1、 使用session抓页面\n",
    "session = HTMLSession()\n",
    "r = session.get(\"https://news.cnblogs.com/n/recommend\")\n",
    "\n",
    "#2、使用.find (CSS selector; r.html.find)\n",
    "# 通过CSS找到新闻标签\n",
    "news = r.html.find('h2.news_entry > a')\n",
    "\n",
    "#3、输出结果\n",
    "for new in news:\n",
    "    print(new.text)  # 获得新闻标题\n",
    "    print(new.absolute_links)  # 获得新闻链接"
   ]
  },
  {
   "cell_type": "markdown",
   "metadata": {
    "slideshow": {
     "slide_type": "slide"
    }
   },
   "source": [
    "### 不是算Python的内容：HTML 之 xpath 与 selector\n",
    "\n",
    "接下来需要选择器selector抽取数据img\n",
    "* xpath ```$x(\"放这\")```\n",
    "* CSS selector``` $(\"放这\") ```\n",
    "\n",
    "\n",
    "\n",
    "####  项目0.B liepin 工作"
   ]
  },
  {
   "cell_type": "code",
   "execution_count": 1,
   "metadata": {
    "slideshow": {
     "slide_type": "subslide"
    }
   },
   "outputs": [
    {
     "name": "stdout",
     "output_type": "stream",
     "text": [
      "用户研究主任工程师\n",
      "{'https://www.liepin.com/job/1926825313.shtml'}\n",
      "用户研究主任工程师\n",
      "{'https://www.liepin.com/job/1926825311.shtml'}\n",
      "用户研究专家\n",
      "{'https://www.liepin.com/job/1926823961.shtml'}\n",
      "用户研究专家\n",
      "{'https://www.liepin.com/job/1926700945.shtml'}\n",
      "资深数据挖掘工程师-雷火用户体验研究中心001\n",
      "{'https://www.liepin.com/job/1926571709.shtml'}\n",
      "用户研究\n",
      "{'https://www.liepin.com/job/1926495493.shtml'}\n",
      "用户研究-美团App\n",
      "{'https://www.liepin.com/job/1926441509.shtml'}\n",
      "用户研究岗\n",
      "{'https://www.liepin.com/job/1926381443.shtml'}\n",
      "用户研究工程师\n",
      "{'https://www.liepin.com/job/1926365071.shtml'}\n",
      "用户研究专家\n",
      "{'https://www.liepin.com/job/1926363739.shtml'}\n",
      "用户研究专家/经理（用户层面）(J10514)\n",
      "{'https://www.liepin.com/job/1926363703.shtml'}\n",
      "用户研究专家\n",
      "{'https://www.liepin.com/job/1925849789.shtml'}\n",
      "用户研究\n",
      "{'https://www.liepin.com/job/1925827427.shtml'}\n",
      "交互设计总监/设计总监/用户研究\n",
      "{'https://www.liepin.com/job/1925724787.shtml'}\n",
      "信息流-用户画像算法研究员\n",
      "{'https://www.liepin.com/job/1925699043.shtml'}\n",
      "用户研究-C0108\n",
      "{'https://www.liepin.com/job/1925697071.shtml'}\n",
      "用户研究-快驴事业部\n",
      "{'https://www.liepin.com/job/1925598179.shtml'}\n",
      "用户研究员-小象事业部\n",
      "{'https://www.liepin.com/job/1925515311.shtml'}\n",
      "高级用户研究\n",
      "{'https://www.liepin.com/job/1925499801.shtml'}\n",
      "用户研究\n",
      "{'https://www.liepin.com/job/1925413705.shtml'}\n",
      "用户研究-美团单车\n",
      "{'https://www.liepin.com/job/1925099591.shtml'}\n",
      "SPOS-用户研究工程师-外包岗\n",
      "{'https://www.liepin.com/job/1925081121.shtml'}\n",
      "用户研究-用户体验部金融服务平台\n",
      "{'https://www.liepin.com/job/1925040845.shtml'}\n",
      "用户研究经理\n",
      "{'https://www.liepin.com/job/1924951811.shtml'}\n",
      "用户研究与产品体验专员\n",
      "{'https://www.liepin.com/job/1924943737.shtml'}\n",
      "用户研究\n",
      "{'https://www.liepin.com/job/1923805315.shtml'}\n",
      "用户体验部—用户研究\n",
      "{'https://www.liepin.com/job/1923323567.shtml'}\n",
      "高级用户研究工程师(J10445)\n",
      "{'https://www.liepin.com/job/1922344451.shtml'}\n",
      "高级用户研究\n",
      "{'https://www.liepin.com/job/1920972439.shtml'}\n",
      "用户研究\n",
      "{'https://www.liepin.com/job/1920187811.shtml'}\n",
      "用户研究高级工程师\n",
      "{'https://www.liepin.com/a/19404627.shtml'}\n",
      "用户研究员（定量） #219026\n",
      "{'https://www.liepin.com/a/19366525.shtml'}\n",
      "用户研究高级工程师\n",
      "{'https://www.liepin.com/a/19364845.shtml'}\n",
      "用户研究\n",
      "{'https://www.liepin.com/a/19346409.shtml'}\n",
      "用户研究岗\n",
      "{'https://www.liepin.com/a/19275031.shtml'}\n",
      "高级用户研究\n",
      "{'https://www.liepin.com/a/19259111.shtml'}\n",
      "用户研究\n",
      "{'https://www.liepin.com/a/19258415.shtml'}\n",
      "用户研究高级经理\n",
      "{'https://www.liepin.com/a/19250069.shtml'}\n",
      "用户体验研究工程师\n",
      "{'https://www.liepin.com/a/19248833.shtml'}\n",
      "用户体验研究总监（前瞻性体验研究）\n",
      "{'https://www.liepin.com/job/1919240807.shtml'}\n"
     ]
    }
   ],
   "source": [
    "from requests_html import HTMLSession\n",
    "\n",
    "session = HTMLSession()\n",
    "\n",
    "r = session.get(\"https://www.liepin.com/zhaopin/?key=用户研究\")\n",
    "\n",
    "# 通过xpath找到工作标签\n",
    "news = r.html.xpath('//div[@class=\"job-info\"]/h3/a')\n",
    "#// 表示从匹配选择的当前节点选择文档中的节点，而不考虑它们的位置；/表示从根节点选取；\n",
    "\n",
    "for new in news:\n",
    "    print(new.text)  # 获得工作标题\n",
    "    print(new.absolute_links)  # 获得工作链接"
   ]
  },
  {
   "cell_type": "code",
   "execution_count": 19,
   "metadata": {},
   "outputs": [
    {
     "name": "stdout",
     "output_type": "stream",
     "text": [
      "移动端产品经理\n",
      "{'https://www.liepin.com/job/1924952323.shtml'}\n",
      "产品经理（可视化）\n",
      "{'https://www.liepin.com/job/1924693097.shtml'}\n",
      "高级产品经理\n",
      "{'https://www.liepin.com/job/1923299753.shtml'}\n",
      "中台数据产品经理\n",
      "{'https://www.liepin.com/job/1923140269.shtml'}\n",
      "产品经理\n",
      "{'https://www.liepin.com/job/1924135939.shtml'}\n",
      "PM\n",
      "{'https://www.liepin.com/job/1919761567.shtml'}\n",
      "硬件产品经理（选品方向）\n",
      "{'https://www.liepin.com/job/1920715073.shtml'}\n",
      "BI产品经理（投研大数据）\n",
      "{'https://www.liepin.com/job/1926843083.shtml'}\n",
      "后装产品经理(J10475)\n",
      "{'https://www.liepin.com/job/1926842751.shtml'}\n",
      "软件产品经理(J10474)\n",
      "{'https://www.liepin.com/job/1926842665.shtml'}\n",
      "产业业务部-产品经理岗\n",
      "{'https://www.liepin.com/job/1926838911.shtml'}\n",
      "产品经理\n",
      "{'https://www.liepin.com/job/1926837003.shtml'}\n",
      "产品经理\n",
      "{'https://www.liepin.com/job/1926836871.shtml'}\n",
      "产品主管/经理\n",
      "{'https://www.liepin.com/job/1926833823.shtml'}\n",
      "风险产品经理\n",
      "{'https://www.liepin.com/job/1926824701.shtml'}\n",
      "GIS产品经理\n",
      "{'https://www.liepin.com/job/1926820317.shtml'}\n",
      "万达普惠-互联网产品经理\n",
      "{'https://www.liepin.com/job/1926816405.shtml'}\n",
      "专利产品经理\n",
      "{'https://www.liepin.com/job/1926787487.shtml'}\n",
      "产品经理助理\n",
      "{'https://www.liepin.com/job/1926714491.shtml'}\n",
      "产品设计经理\n",
      "{'https://www.liepin.com/job/1926670753.shtml'}\n",
      "产品经理助理\n",
      "{'https://www.liepin.com/job/1926658233.shtml'}\n",
      "高级产品经理\n",
      "{'https://www.liepin.com/job/1925362781.shtml'}\n",
      "产品经理\n",
      "{'https://www.liepin.com/job/1925206267.shtml'}\n",
      "产品引入商务经理\n",
      "{'https://www.liepin.com/job/1916909411.shtml'}\n",
      "手游产品运营经理\n",
      "{'https://www.liepin.com/job/1916599857.shtml'}\n",
      "对公产品经理（投行、贸融、网金、离岸、信托）\n",
      "{'https://www.liepin.com/job/199532676.shtml'}\n",
      "银行产品经理\n",
      "{'https://www.liepin.com/job/1926801671.shtml'}\n",
      "旅游产品经理\n",
      "{'https://www.liepin.com/job/1926703515.shtml'}\n",
      "资深产品经理（丁香医生）\n",
      "{'https://www.liepin.com/job/1926237339.shtml'}\n",
      "产品经理\n",
      "{'https://www.liepin.com/job/1926150571.shtml'}\n",
      "互联网产品经理\n",
      "{'https://www.liepin.com/job/1926483249.shtml'}\n",
      "产品经理\n",
      "{'https://www.liepin.com/job/1919949395.shtml'}\n",
      "产品经理\n",
      "{'https://www.liepin.com/job/1918768733.shtml'}\n",
      "产品运营副经理\n",
      "{'https://www.liepin.com/job/1926717557.shtml'}\n",
      "高级产品经理（南昌）\n",
      "{'https://www.liepin.com/job/1926765351.shtml'}\n",
      "教育产品经理\n",
      "{'https://www.liepin.com/job/1926759001.shtml'}\n",
      "产品经理\n",
      "{'https://www.liepin.com/job/1925942641.shtml'}\n",
      "销售经理（公寓产品）\n",
      "{'https://www.liepin.com/job/1915824093.shtml'}\n",
      "产品经理/高级产品经理/Product Manager\n",
      "{'https://www.liepin.com/job/1926765575.shtml'}\n",
      "助理产品经理/产品经理\n",
      "{'https://www.liepin.com/job/1926765431.shtml'}\n",
      "相关职位 换一换\n",
      "set()\n",
      "手机版：\n",
      "set()\n"
     ]
    }
   ],
   "source": [
    "from requests_html import HTMLSession\n",
    "session = HTMLSession()\n",
    "\n",
    "r = session.get(\"https://www.liepin.com/zhaopin/?key=产品经理\")\n",
    "\n",
    "# 通过xpath找到工作标签\n",
    "news = r.html.xpath('//*[@id=\"sojob\"]//h3')\n",
    "\n",
    "for new in news:\n",
    "    print(new.text)  # 获得工作标题\n",
    "    print(new.absolute_links)  # 获得工作链接"
   ]
  },
  {
   "cell_type": "code",
   "execution_count": 3,
   "metadata": {
    "slideshow": {
     "slide_type": "subslide"
    }
   },
   "outputs": [
    {
     "name": "stdout",
     "output_type": "stream",
     "text": [
      "高级投资经理/VP（TMT方向）\n",
      "33-42k·12薪 北京-海淀区 硕士及以上 5年以上\n",
      "一个月前 投递后：7个工作日内反馈\n",
      "{'https://www.liepin.com/job/1923434335.shtml'}\n",
      "04214D-地产投资经理\n",
      "面议 深圳 学历不限 1年以上\n",
      "一个月前 投递后：72小时反馈\n",
      "{'https://www.liepin.com/sz/zhaopin/', 'https://www.liepin.com/job/1924372139.shtml'}\n",
      "基础设施投资经理\n",
      "面议 深圳-福田区 本科及以上 3年以上\n",
      "4小时前 投递后：10个工作日内反馈\n",
      "{'https://www.liepin.com/job/1922735385.shtml', 'https://www.liepin.com/sz/zhaopin/'}\n",
      "投资主管/助理经理\n",
      "15-20k·12薪 广州-天河区 本科及以上 3年以上\n",
      "2020-03-18 投递后：24小时反馈\n",
      "{'https://www.liepin.com/gz/zhaopin/', 'https://www.liepin.com/job/1926669959.shtml'}\n",
      "产业投资高级经理/总监\n",
      "面议 上海-长宁区 本科及以上 5年以上\n",
      "一个月前 投递后：10个工作日内反馈\n",
      "{'https://www.liepin.com/sh/zhaopin/', 'https://www.liepin.com/job/1918264435.shtml'}\n",
      "投资经理\n",
      "15-20k·12薪 武汉 大专及以上 5年以上\n",
      "21小时前 投递后：24小时反馈\n",
      "{'https://www.liepin.com/job/1926142079.shtml', 'https://www.liepin.com/wuhan/zhaopin/'}\n",
      "04211V-地产中级投资经理（上海）\n",
      "面议 上海 学历不限 5年以上\n",
      "一个月前 投递后：72小时反馈\n",
      "{'https://www.liepin.com/sh/zhaopin/', 'https://www.liepin.com/job/1918996877.shtml'}\n",
      "投资经理（计算机、人工智能方向）\n",
      "12-20k·14薪 济南 硕士及以上 2年以上\n",
      "4小时前 投递后：7个工作日内反馈\n",
      "{'https://www.liepin.com/job/1926789619.shtml', 'https://www.liepin.com/jinan/zhaopin/'}\n",
      "海外商务经理(投资方向)(海外事业部)\n",
      "面议 上海-静安区 硕士及以上 2年以上\n",
      "1小时前 投递后：7个工作日内反馈\n",
      "{'https://www.liepin.com/sh/zhaopin/', 'https://www.liepin.com/job/1925758051.shtml'}\n",
      "商业地产投资经理\n",
      "20-27k·12薪 北京 统招本科 3年以上\n",
      "58分钟前 投递后：24小时反馈\n",
      "{'https://www.liepin.com/job/1926771515.shtml', 'https://www.liepin.com/bj/zhaopin/'}\n",
      "投资管理部副总经理ZN20007\n",
      "35-45k·12薪 杭州 本科及以上 8年以上\n",
      "2020-03-18 投递后：10个工作日内反馈\n",
      "{'https://www.liepin.com/job/1926779477.shtml', 'https://www.liepin.com/hz/zhaopin/'}\n",
      "042149-基建投资经理（财务方向，北京）\n",
      "面议 北京 学历不限 3年以上\n",
      "2020-03-18 投递后：72小时反馈\n",
      "{'https://www.liepin.com/bj/zhaopin/', 'https://www.liepin.com/job/1926779105.shtml'}\n",
      "投资并购经理\n",
      "面议 北京-朝阳区 统招本科 3年以上\n",
      "2020-03-14 投递后：24小时反馈\n",
      "{'https://www.liepin.com/job/1926470177.shtml'}\n",
      "恒天财富-理财经理/投资顾问\n",
      "30-60k·12薪 北京 统招本科 3年以上\n",
      "2020-03-09 投递后：72小时反馈\n",
      "{'https://www.liepin.com/job/1926400383.shtml', 'https://www.liepin.com/bj/zhaopin/'}\n",
      "投资管理经理\n",
      "面议 成都 统招本科 经验不限\n",
      "2020-03-09 投递后：7个工作日内反馈\n",
      "{'https://www.liepin.com/cd/zhaopin/', 'https://www.liepin.com/job/1914218742.shtml'}\n",
      "投资拓展经理\n",
      "面议 北京-丰台体育馆 统招本科 5年以上\n",
      "一个月前 投递后：7个工作日内反馈\n",
      "{'https://www.liepin.com/bj/zhaopin/', 'https://www.liepin.com/job/1911217229.shtml'}\n",
      "投资助理经理\n",
      "13-18k·12薪 杭州-古荡 本科及以上 3年以上\n",
      "5分钟前 投递后：72小时反馈\n",
      "{'https://www.liepin.com/job/1926879061.shtml', 'https://www.liepin.com/hz/zhaopin/'}\n",
      "投资经理（投资者关系）\n",
      "8-12k·12薪 北京-海淀区 本科及以上 2年以上\n",
      "19分钟前 投递后：24小时反馈\n",
      "{'https://www.liepin.com/job/1926878321.shtml'}\n",
      "投资执行总经理\n",
      "45-65k·17薪 东莞 统招本科 10年以上\n",
      "22分钟前 投递后：7个工作日内反馈\n",
      "{'https://www.liepin.com/dongguan/zhaopin/', 'https://www.liepin.com/job/1926878155.shtml'}\n",
      "投资执行总经理\n",
      "45-65k·17薪 惠州 统招本科 10年以上\n",
      "22分钟前 投递后：7个工作日内反馈\n",
      "{'https://www.liepin.com/huizhou/zhaopin/', 'https://www.liepin.com/job/1926878153.shtml'}\n",
      "投资执行总经理\n",
      "45-65k·17薪 深圳 统招本科 10年以上\n",
      "22分钟前 投递后：7个工作日内反馈\n",
      "{'https://www.liepin.com/sz/zhaopin/', 'https://www.liepin.com/job/1926878151.shtml'}\n",
      "投资执行总经理\n",
      "45-65k·17薪 广州 统招本科 10年以上\n",
      "22分钟前 投递后：7个工作日内反馈\n",
      "{'https://www.liepin.com/job/1926878149.shtml', 'https://www.liepin.com/gz/zhaopin/'}\n",
      "投资拓展经理（广州）\n",
      "10-20k·13薪 珠海 大专及以上 3年以上\n",
      "28分钟前 投递后：72小时反馈\n",
      "{'https://www.liepin.com/job/1926877847.shtml', 'https://www.liepin.com/zhuhai/zhaopin/'}\n",
      "投资经理（生物医药）\n",
      "11-16k·12薪 深圳 本科及以上 经验不限\n",
      "38分钟前 投递后：24小时反馈\n",
      "{'https://www.liepin.com/job/1926877283.shtml', 'https://www.liepin.com/sz/zhaopin/'}\n",
      "战略投资经理\n",
      "11-16k·12薪 深圳 本科及以上 3年以上\n",
      "46分钟前 投递后：24小时反馈\n",
      "{'https://www.liepin.com/job/1926876835.shtml', 'https://www.liepin.com/sz/zhaopin/'}\n",
      "医疗行业 投资经理\n",
      "10k·12薪 上海-洋泾 硕士及以上 5年以上\n",
      "46分钟前 投递后：10个工作日内反馈\n",
      "{'https://www.liepin.com/sh/zhaopin/', 'https://www.liepin.com/job/1926876705.shtml'}\n",
      "医疗行业 投资经理\n",
      "10k·12薪 杭州 硕士及以上 5年以上\n",
      "48分钟前 投递后：10个工作日内反馈\n",
      "{'https://www.liepin.com/job/1926876703.shtml', 'https://www.liepin.com/hz/zhaopin/'}\n",
      "投资经理\n",
      "20-40k·12薪 北京 硕士及以上 5年以上\n",
      "1小时前 投递后：72小时反馈\n",
      "{'https://www.liepin.com/job/1926875747.shtml', 'https://www.liepin.com/bj/zhaopin/'}\n",
      "投资经理\n",
      "20-25k·12薪 成都-柳江 统招本科 5年以上\n",
      "1小时前 投递后：72小时反馈\n",
      "{'https://www.liepin.com/cd/zhaopin/', 'https://www.liepin.com/job/1926873601.shtml'}\n",
      "投资经理\n",
      "10-15k·12薪 阜阳 大专及以上 3年以上\n",
      "52分钟前 投递后：72小时反馈\n",
      "{'https://www.liepin.com/job/1926870997.shtml'}\n",
      "股权投资经理\n",
      "面议 北京 统招本科 2年以上\n",
      "4小时前 投递后：24小时反馈\n",
      "{'https://www.liepin.com/bj/zhaopin/', 'https://www.liepin.com/job/1926869263.shtml'}\n",
      "投资并购经理\n",
      "面议 上海 本科及以上 5年以上\n",
      "4小时前 投递后：10个工作日内反馈\n",
      "{'https://www.liepin.com/sh/zhaopin/', 'https://www.liepin.com/job/1926868285.shtml'}\n",
      "招商经理(象山紫航投资有限公司)\n",
      "10-13k·12薪 宁波-象山县 本科及以上 5年以上\n",
      "4小时前 投递后：10个工作日内反馈\n",
      "{'https://www.liepin.com/job/1926868133.shtml', 'https://www.liepin.com/ningbo/zhaopin/'}\n",
      "投资高级经理（大健康、微生物方向）\n",
      "15-25k·12薪 青岛-崂山区 硕士及以上 5年以上\n",
      "4小时前 投递后：7个工作日内反馈\n",
      "{'https://www.liepin.com/qingdao/zhaopin/', 'https://www.liepin.com/job/1926867759.shtml'}\n",
      "投资经理\n",
      "面议 杭州 本科及以上 1年以上\n",
      "5小时前 投递后：24小时反馈\n",
      "{'https://www.liepin.com/job/1926866199.shtml', 'https://www.liepin.com/hz/zhaopin/'}\n",
      "集团投资拓展开发经理\n",
      "面议 海口 本科及以上 6年以上\n",
      "5小时前 投递后：72小时反馈\n",
      "{'https://www.liepin.com/job/1926866171.shtml', 'https://www.liepin.com/haikou/zhaopin/'}\n",
      "集团投资拓展开发经理\n",
      "面议 三亚 本科及以上 6年以上\n",
      "5小时前 投递后：72小时反馈\n",
      "{'https://www.liepin.com/job/1926866169.shtml', 'https://www.liepin.com/sanya/zhaopin/'}\n",
      "计划运营经理(上海爱家投资(集团)有限公司)\n",
      "15-20k·12薪 上海-陆家嘴 统招本科 7年以上\n",
      "5小时前 投递后：7个工作日内反馈\n",
      "{'https://www.liepin.com/job/1926865981.shtml', 'https://www.liepin.com/sh/zhaopin/'}\n",
      "投资拓展经理\n",
      "15-25k·12薪 长沙 本科及以上 5年以上\n",
      "5小时前 投递后：72小时反馈\n",
      "{'https://www.liepin.com/job/1926865485.shtml', 'https://www.liepin.com/changsha/zhaopin/'}\n",
      "风控经理（股权投资）\n",
      "面议 上海-五里桥 统招本科 5年以上\n",
      "5小时前 投递后：10个工作日内反馈\n",
      "{'https://www.liepin.com/sh/zhaopin/', 'https://www.liepin.com/job/1926865369.shtml'}\n"
     ]
    }
   ],
   "source": [
    "from requests_html import HTMLSession\n",
    "session = HTMLSession()\n",
    "\n",
    "r = session.get(\"https://www.liepin.com/zhaopin/?key=投资经理\")\n",
    "\n",
    "# 通过xpath找到工作标签\n",
    "news = r.html.find('.job-info')\n",
    "\n",
    "for new in news :\n",
    "    print(new.text)  # 获得工作标题\n",
    "    print(new.absolute_links)  # 获得工作链接 \n"
   ]
  },
  {
   "cell_type": "markdown",
   "metadata": {
    "scrolled": true
   },
   "source": [
    "####  展示图\n",
    "* Jupyter 可用的魔法之一 IPython 展示模块, HTML转码\n",
    " "
   ]
  },
  {
   "cell_type": "code",
   "execution_count": 3,
   "metadata": {
    "slideshow": {
     "slide_type": "fragment"
    }
   },
   "outputs": [
    {
     "data": {
      "text/html": [
       "<img src=\"https://httpstatusdogs.com/img/418.jpg\" alt=\"\">"
      ],
      "text/plain": [
       "<IPython.core.display.HTML object>"
      ]
     },
     "metadata": {},
     "output_type": "display_data"
    }
   ],
   "source": [
    "from IPython.core.display import display, HTML\n",
    "display(HTML('<img src=\"https://httpstatusdogs.com/img/418.jpg\" alt=\"\">'))"
   ]
  },
  {
   "cell_type": "markdown",
   "metadata": {
    "slideshow": {
     "slide_type": "slide"
    }
   },
   "source": [
    "####  展示图\n",
    "* Jupyter 可用的魔法之一 IPython 展示模块, HTML转码"
   ]
  },
  {
   "cell_type": "code",
   "execution_count": 4,
   "metadata": {
    "slideshow": {
     "slide_type": "fragment"
    }
   },
   "outputs": [
    {
     "data": {
      "text/markdown": [
       "![](https://httpstatusdogs.com/img/418.jpg)"
      ],
      "text/plain": [
       "<IPython.core.display.Markdown object>"
      ]
     },
     "metadata": {},
     "output_type": "display_data"
    }
   ],
   "source": [
    "from IPython.core.display import display, Markdown\n",
    "display(Markdown('![](https://httpstatusdogs.com/img/418.jpg)'))"
   ]
  },
  {
   "cell_type": "markdown",
   "metadata": {
    "slideshow": {
     "slide_type": "slide"
    }
   },
   "source": [
    "### 抓抓图片?\n",
    "[图片新闻_Bing](http://www.gov.cn/xinwen/tupian/index.htm)\n",
    "\n",
    "####  项目0.C 图片新闻"
   ]
  },
  {
   "cell_type": "code",
   "execution_count": 5,
   "metadata": {
    "slideshow": {
     "slide_type": "fragment"
    }
   },
   "outputs": [
    {
     "name": "stdout",
     "output_type": "stream",
     "text": [
      "data:image/png;base64,iVBORw0KGgoAAAANSUhEUgAAAAEAAAABCAQAAAC1HAwCAAAAC0lEQVR42mNgYAAAAAMAASsJTYQAAAAASUVORK5CYII=\n"
     ]
    },
    {
     "data": {
      "text/markdown": [
       "![](data:image/png;base64,iVBORw0KGgoAAAANSUhEUgAAAAEAAAABCAQAAAC1HAwCAAAAC0lEQVR42mNgYAAAAAMAASsJTYQAAAAASUVORK5CYII=)"
      ],
      "text/plain": [
       "<IPython.core.display.Markdown object>"
      ]
     },
     "metadata": {},
     "output_type": "display_data"
    },
    {
     "name": "stdout",
     "output_type": "stream",
     "text": [
      "https://tse1-mm.cn.bing.net/th/id/OET.2aa2a3766b5d4d2d9d9fed3d713f33eb?w=272&h=272&c=7&rs=1&o=5&pid=1.9\n"
     ]
    },
    {
     "data": {
      "text/markdown": [
       "![](https://tse1-mm.cn.bing.net/th/id/OET.2aa2a3766b5d4d2d9d9fed3d713f33eb?w=272&h=272&c=7&rs=1&o=5&pid=1.9)"
      ],
      "text/plain": [
       "<IPython.core.display.Markdown object>"
      ]
     },
     "metadata": {},
     "output_type": "display_data"
    },
    {
     "name": "stdout",
     "output_type": "stream",
     "text": [
      "https://tse1-mm.cn.bing.net/th/id/OET.3886c7bdd81240f3abe5f8f8cee4fa0e?w=272&h=135&c=7&rs=1&o=5&pid=1.9\n"
     ]
    },
    {
     "data": {
      "text/markdown": [
       "![](https://tse1-mm.cn.bing.net/th/id/OET.3886c7bdd81240f3abe5f8f8cee4fa0e?w=272&h=135&c=7&rs=1&o=5&pid=1.9)"
      ],
      "text/plain": [
       "<IPython.core.display.Markdown object>"
      ]
     },
     "metadata": {},
     "output_type": "display_data"
    },
    {
     "name": "stdout",
     "output_type": "stream",
     "text": [
      "https://tse1-mm.cn.bing.net/th/id/OET.9fcacf06eb3d40fd8569effcff00fe5e?w=272&h=135&c=7&rs=1&o=5&pid=1.9\n"
     ]
    },
    {
     "data": {
      "text/markdown": [
       "![](https://tse1-mm.cn.bing.net/th/id/OET.9fcacf06eb3d40fd8569effcff00fe5e?w=272&h=135&c=7&rs=1&o=5&pid=1.9)"
      ],
      "text/plain": [
       "<IPython.core.display.Markdown object>"
      ]
     },
     "metadata": {},
     "output_type": "display_data"
    },
    {
     "name": "stdout",
     "output_type": "stream",
     "text": [
      "https://tse1-mm.cn.bing.net/th/id/OET.ff4be71371bc4e77a530d8710d68b450?w=272&h=135&c=7&rs=1&o=5&pid=1.9\n"
     ]
    },
    {
     "data": {
      "text/markdown": [
       "![](https://tse1-mm.cn.bing.net/th/id/OET.ff4be71371bc4e77a530d8710d68b450?w=272&h=135&c=7&rs=1&o=5&pid=1.9)"
      ],
      "text/plain": [
       "<IPython.core.display.Markdown object>"
      ]
     },
     "metadata": {},
     "output_type": "display_data"
    },
    {
     "name": "stdout",
     "output_type": "stream",
     "text": [
      "https://tse1-mm.cn.bing.net/th/id/OET.4d9a5ae6f27547e7b4b5436509e443ed?w=272&h=135&c=7&rs=1&o=5&pid=1.9\n"
     ]
    },
    {
     "data": {
      "text/markdown": [
       "![](https://tse1-mm.cn.bing.net/th/id/OET.4d9a5ae6f27547e7b4b5436509e443ed?w=272&h=135&c=7&rs=1&o=5&pid=1.9)"
      ],
      "text/plain": [
       "<IPython.core.display.Markdown object>"
      ]
     },
     "metadata": {},
     "output_type": "display_data"
    },
    {
     "name": "stdout",
     "output_type": "stream",
     "text": [
      "https://tse1-mm.cn.bing.net/th/id/OET.b4631c5bfcfc46f8b435456813f6867d?w=272&h=135&c=7&rs=1&o=5&pid=1.9\n"
     ]
    },
    {
     "data": {
      "text/markdown": [
       "![](https://tse1-mm.cn.bing.net/th/id/OET.b4631c5bfcfc46f8b435456813f6867d?w=272&h=135&c=7&rs=1&o=5&pid=1.9)"
      ],
      "text/plain": [
       "<IPython.core.display.Markdown object>"
      ]
     },
     "metadata": {},
     "output_type": "display_data"
    },
    {
     "name": "stdout",
     "output_type": "stream",
     "text": [
      "https://tse1-mm.cn.bing.net/th/id/OET.27c986d8239a4d23875622c8e5791eda?w=272&h=135&c=7&rs=1&o=5&pid=1.9\n"
     ]
    },
    {
     "data": {
      "text/markdown": [
       "![](https://tse1-mm.cn.bing.net/th/id/OET.27c986d8239a4d23875622c8e5791eda?w=272&h=135&c=7&rs=1&o=5&pid=1.9)"
      ],
      "text/plain": [
       "<IPython.core.display.Markdown object>"
      ]
     },
     "metadata": {},
     "output_type": "display_data"
    },
    {
     "name": "stdout",
     "output_type": "stream",
     "text": [
      "https://tse1-mm.cn.bing.net/th/id/OET.53867c33c4b544bcb1d1816b0d999e4c?w=135&h=135&c=7&rs=1&o=5&pid=1.9\n"
     ]
    },
    {
     "data": {
      "text/markdown": [
       "![](https://tse1-mm.cn.bing.net/th/id/OET.53867c33c4b544bcb1d1816b0d999e4c?w=135&h=135&c=7&rs=1&o=5&pid=1.9)"
      ],
      "text/plain": [
       "<IPython.core.display.Markdown object>"
      ]
     },
     "metadata": {},
     "output_type": "display_data"
    },
    {
     "name": "stdout",
     "output_type": "stream",
     "text": [
      "https://tse1-mm.cn.bing.net/th/id/OET.366d0d10b68e4b839d1f4bba028ccd23?w=135&h=135&c=7&rs=1&o=5&pid=1.9\n"
     ]
    },
    {
     "data": {
      "text/markdown": [
       "![](https://tse1-mm.cn.bing.net/th/id/OET.366d0d10b68e4b839d1f4bba028ccd23?w=135&h=135&c=7&rs=1&o=5&pid=1.9)"
      ],
      "text/plain": [
       "<IPython.core.display.Markdown object>"
      ]
     },
     "metadata": {},
     "output_type": "display_data"
    },
    {
     "name": "stdout",
     "output_type": "stream",
     "text": [
      "https://tse1-mm.cn.bing.net/th/id/OET.020bc8604f2d4a188971fcb17aa8a905?w=135&h=135&c=7&rs=1&o=5&pid=1.9\n"
     ]
    },
    {
     "data": {
      "text/markdown": [
       "![](https://tse1-mm.cn.bing.net/th/id/OET.020bc8604f2d4a188971fcb17aa8a905?w=135&h=135&c=7&rs=1&o=5&pid=1.9)"
      ],
      "text/plain": [
       "<IPython.core.display.Markdown object>"
      ]
     },
     "metadata": {},
     "output_type": "display_data"
    },
    {
     "name": "stdout",
     "output_type": "stream",
     "text": [
      "https://tse1-mm.cn.bing.net/th/id/OET.9982eecb74f243d2a805c077d0466fb6?w=135&h=135&c=7&rs=1&o=5&pid=1.9\n"
     ]
    },
    {
     "data": {
      "text/markdown": [
       "![](https://tse1-mm.cn.bing.net/th/id/OET.9982eecb74f243d2a805c077d0466fb6?w=135&h=135&c=7&rs=1&o=5&pid=1.9)"
      ],
      "text/plain": [
       "<IPython.core.display.Markdown object>"
      ]
     },
     "metadata": {},
     "output_type": "display_data"
    },
    {
     "name": "stdout",
     "output_type": "stream",
     "text": [
      "https://tse1-mm.cn.bing.net/th/id/OET.ac947abd05814bb28329fdf32965e239?w=272&h=272&c=7&rs=1&o=5&pid=1.9\n"
     ]
    },
    {
     "data": {
      "text/markdown": [
       "![](https://tse1-mm.cn.bing.net/th/id/OET.ac947abd05814bb28329fdf32965e239?w=272&h=272&c=7&rs=1&o=5&pid=1.9)"
      ],
      "text/plain": [
       "<IPython.core.display.Markdown object>"
      ]
     },
     "metadata": {},
     "output_type": "display_data"
    },
    {
     "name": "stdout",
     "output_type": "stream",
     "text": [
      "https://tse1-mm.cn.bing.net/th/id/OET.d614e356ff3648ea8385bcd68546a74c?w=135&h=272&c=7&rs=1&o=5&pid=1.9\n"
     ]
    },
    {
     "data": {
      "text/markdown": [
       "![](https://tse1-mm.cn.bing.net/th/id/OET.d614e356ff3648ea8385bcd68546a74c?w=135&h=272&c=7&rs=1&o=5&pid=1.9)"
      ],
      "text/plain": [
       "<IPython.core.display.Markdown object>"
      ]
     },
     "metadata": {},
     "output_type": "display_data"
    },
    {
     "name": "stdout",
     "output_type": "stream",
     "text": [
      "https://tse1-mm.cn.bing.net/th/id/OET.e25f83524d9f4a868bdbdf1919dec3c0?w=135&h=272&c=7&rs=1&o=5&pid=1.9\n"
     ]
    },
    {
     "data": {
      "text/markdown": [
       "![](https://tse1-mm.cn.bing.net/th/id/OET.e25f83524d9f4a868bdbdf1919dec3c0?w=135&h=272&c=7&rs=1&o=5&pid=1.9)"
      ],
      "text/plain": [
       "<IPython.core.display.Markdown object>"
      ]
     },
     "metadata": {},
     "output_type": "display_data"
    },
    {
     "name": "stdout",
     "output_type": "stream",
     "text": [
      "https://tse1-mm.cn.bing.net/th/id/OET.938d4544da29427fa7278cb7c7351fb6?w=135&h=272&c=7&rs=1&o=5&pid=1.9\n"
     ]
    },
    {
     "data": {
      "text/markdown": [
       "![](https://tse1-mm.cn.bing.net/th/id/OET.938d4544da29427fa7278cb7c7351fb6?w=135&h=272&c=7&rs=1&o=5&pid=1.9)"
      ],
      "text/plain": [
       "<IPython.core.display.Markdown object>"
      ]
     },
     "metadata": {},
     "output_type": "display_data"
    },
    {
     "name": "stdout",
     "output_type": "stream",
     "text": [
      "https://tse1-mm.cn.bing.net/th/id/OET.609002688afe4145900fcf56bfc1728d?w=135&h=272&c=7&rs=1&o=5&pid=1.9\n"
     ]
    },
    {
     "data": {
      "text/markdown": [
       "![](https://tse1-mm.cn.bing.net/th/id/OET.609002688afe4145900fcf56bfc1728d?w=135&h=272&c=7&rs=1&o=5&pid=1.9)"
      ],
      "text/plain": [
       "<IPython.core.display.Markdown object>"
      ]
     },
     "metadata": {},
     "output_type": "display_data"
    },
    {
     "name": "stdout",
     "output_type": "stream",
     "text": [
      "https://tse1-mm.cn.bing.net/th/id/OET.3b155f97226d4ce3b8019ca75c37785c?w=135&h=272&c=7&rs=1&o=5&pid=1.9\n"
     ]
    },
    {
     "data": {
      "text/markdown": [
       "![](https://tse1-mm.cn.bing.net/th/id/OET.3b155f97226d4ce3b8019ca75c37785c?w=135&h=272&c=7&rs=1&o=5&pid=1.9)"
      ],
      "text/plain": [
       "<IPython.core.display.Markdown object>"
      ]
     },
     "metadata": {},
     "output_type": "display_data"
    },
    {
     "name": "stdout",
     "output_type": "stream",
     "text": [
      "https://tse1-mm.cn.bing.net/th/id/OET.fc7d18af572249f4815210592b083015?w=135&h=272&c=7&rs=1&o=5&pid=1.9\n"
     ]
    },
    {
     "data": {
      "text/markdown": [
       "![](https://tse1-mm.cn.bing.net/th/id/OET.fc7d18af572249f4815210592b083015?w=135&h=272&c=7&rs=1&o=5&pid=1.9)"
      ],
      "text/plain": [
       "<IPython.core.display.Markdown object>"
      ]
     },
     "metadata": {},
     "output_type": "display_data"
    },
    {
     "name": "stdout",
     "output_type": "stream",
     "text": [
      "https://tse1-mm.cn.bing.net/th/id/OET.dc7d64a2cf314b4cbaa1d8b9314734f7?w=135&h=135&c=7&rs=1&o=5&pid=1.9\n"
     ]
    },
    {
     "data": {
      "text/markdown": [
       "![](https://tse1-mm.cn.bing.net/th/id/OET.dc7d64a2cf314b4cbaa1d8b9314734f7?w=135&h=135&c=7&rs=1&o=5&pid=1.9)"
      ],
      "text/plain": [
       "<IPython.core.display.Markdown object>"
      ]
     },
     "metadata": {},
     "output_type": "display_data"
    },
    {
     "name": "stdout",
     "output_type": "stream",
     "text": [
      "https://tse1-mm.cn.bing.net/th/id/OET.f8cd4861bc504029a90ccc272bbc954d?w=135&h=135&c=7&rs=1&o=5&pid=1.9\n"
     ]
    },
    {
     "data": {
      "text/markdown": [
       "![](https://tse1-mm.cn.bing.net/th/id/OET.f8cd4861bc504029a90ccc272bbc954d?w=135&h=135&c=7&rs=1&o=5&pid=1.9)"
      ],
      "text/plain": [
       "<IPython.core.display.Markdown object>"
      ]
     },
     "metadata": {},
     "output_type": "display_data"
    },
    {
     "name": "stdout",
     "output_type": "stream",
     "text": [
      "https://tse1-mm.cn.bing.net/th/id/OET.5ca4829fee72427b8424d6aead35163a?w=135&h=135&c=7&rs=1&o=5&pid=1.9\n"
     ]
    },
    {
     "data": {
      "text/markdown": [
       "![](https://tse1-mm.cn.bing.net/th/id/OET.5ca4829fee72427b8424d6aead35163a?w=135&h=135&c=7&rs=1&o=5&pid=1.9)"
      ],
      "text/plain": [
       "<IPython.core.display.Markdown object>"
      ]
     },
     "metadata": {},
     "output_type": "display_data"
    },
    {
     "name": "stdout",
     "output_type": "stream",
     "text": [
      "https://tse1-mm.cn.bing.net/th/id/OET.f27e5b857f524c648726b803a44837a4?w=135&h=135&c=7&rs=1&o=5&pid=1.9\n"
     ]
    },
    {
     "data": {
      "text/markdown": [
       "![](https://tse1-mm.cn.bing.net/th/id/OET.f27e5b857f524c648726b803a44837a4?w=135&h=135&c=7&rs=1&o=5&pid=1.9)"
      ],
      "text/plain": [
       "<IPython.core.display.Markdown object>"
      ]
     },
     "metadata": {},
     "output_type": "display_data"
    },
    {
     "name": "stdout",
     "output_type": "stream",
     "text": [
      "https://tse1-mm.cn.bing.net/th/id/OET.d76a305be6db4c9e84c89ea26290b38a?w=272&h=272&c=7&rs=1&o=5&pid=1.9\n"
     ]
    },
    {
     "data": {
      "text/markdown": [
       "![](https://tse1-mm.cn.bing.net/th/id/OET.d76a305be6db4c9e84c89ea26290b38a?w=272&h=272&c=7&rs=1&o=5&pid=1.9)"
      ],
      "text/plain": [
       "<IPython.core.display.Markdown object>"
      ]
     },
     "metadata": {},
     "output_type": "display_data"
    },
    {
     "name": "stdout",
     "output_type": "stream",
     "text": [
      "https://tse1-mm.cn.bing.net/th/id/OET.18da11981db140b88154ab5771455563?w=135&h=272&c=7&rs=1&o=5&pid=1.9\n"
     ]
    },
    {
     "data": {
      "text/markdown": [
       "![](https://tse1-mm.cn.bing.net/th/id/OET.18da11981db140b88154ab5771455563?w=135&h=272&c=7&rs=1&o=5&pid=1.9)"
      ],
      "text/plain": [
       "<IPython.core.display.Markdown object>"
      ]
     },
     "metadata": {},
     "output_type": "display_data"
    },
    {
     "name": "stdout",
     "output_type": "stream",
     "text": [
      "https://tse1-mm.cn.bing.net/th/id/OET.f630c2fbb82147b98b1de22b73918a80?w=135&h=272&c=7&rs=1&o=5&pid=1.9\n"
     ]
    },
    {
     "data": {
      "text/markdown": [
       "![](https://tse1-mm.cn.bing.net/th/id/OET.f630c2fbb82147b98b1de22b73918a80?w=135&h=272&c=7&rs=1&o=5&pid=1.9)"
      ],
      "text/plain": [
       "<IPython.core.display.Markdown object>"
      ]
     },
     "metadata": {},
     "output_type": "display_data"
    },
    {
     "name": "stdout",
     "output_type": "stream",
     "text": [
      "https://tse1-mm.cn.bing.net/th/id/OET.8e621908c31741a0a92f5476c346b6a1?w=135&h=272&c=7&rs=1&o=5&pid=1.9\n"
     ]
    },
    {
     "data": {
      "text/markdown": [
       "![](https://tse1-mm.cn.bing.net/th/id/OET.8e621908c31741a0a92f5476c346b6a1?w=135&h=272&c=7&rs=1&o=5&pid=1.9)"
      ],
      "text/plain": [
       "<IPython.core.display.Markdown object>"
      ]
     },
     "metadata": {},
     "output_type": "display_data"
    },
    {
     "name": "stdout",
     "output_type": "stream",
     "text": [
      "https://tse1-mm.cn.bing.net/th/id/OET.ff87a75f1a114173b0612dbc4e1f8686?w=135&h=272&c=7&rs=1&o=5&pid=1.9\n"
     ]
    },
    {
     "data": {
      "text/markdown": [
       "![](https://tse1-mm.cn.bing.net/th/id/OET.ff87a75f1a114173b0612dbc4e1f8686?w=135&h=272&c=7&rs=1&o=5&pid=1.9)"
      ],
      "text/plain": [
       "<IPython.core.display.Markdown object>"
      ]
     },
     "metadata": {},
     "output_type": "display_data"
    },
    {
     "name": "stdout",
     "output_type": "stream",
     "text": [
      "https://tse1-mm.cn.bing.net/th/id/OET.641eeea17d2a4973b53e3c83b750772a?w=135&h=272&c=7&rs=1&o=5&pid=1.9\n"
     ]
    },
    {
     "data": {
      "text/markdown": [
       "![](https://tse1-mm.cn.bing.net/th/id/OET.641eeea17d2a4973b53e3c83b750772a?w=135&h=272&c=7&rs=1&o=5&pid=1.9)"
      ],
      "text/plain": [
       "<IPython.core.display.Markdown object>"
      ]
     },
     "metadata": {},
     "output_type": "display_data"
    },
    {
     "name": "stdout",
     "output_type": "stream",
     "text": [
      "https://tse1-mm.cn.bing.net/th/id/OET.5435c90c0a8b4deab3971d04a029a8c4?w=135&h=272&c=7&rs=1&o=5&pid=1.9\n"
     ]
    },
    {
     "data": {
      "text/markdown": [
       "![](https://tse1-mm.cn.bing.net/th/id/OET.5435c90c0a8b4deab3971d04a029a8c4?w=135&h=272&c=7&rs=1&o=5&pid=1.9)"
      ],
      "text/plain": [
       "<IPython.core.display.Markdown object>"
      ]
     },
     "metadata": {},
     "output_type": "display_data"
    },
    {
     "name": "stdout",
     "output_type": "stream",
     "text": [
      "https://tse1-mm.cn.bing.net/th/id/OET.d69bc419d1714d3a8dbde7cb56a21d3a?w=135&h=135&c=7&rs=1&o=5&pid=1.9\n"
     ]
    },
    {
     "data": {
      "text/markdown": [
       "![](https://tse1-mm.cn.bing.net/th/id/OET.d69bc419d1714d3a8dbde7cb56a21d3a?w=135&h=135&c=7&rs=1&o=5&pid=1.9)"
      ],
      "text/plain": [
       "<IPython.core.display.Markdown object>"
      ]
     },
     "metadata": {},
     "output_type": "display_data"
    },
    {
     "name": "stdout",
     "output_type": "stream",
     "text": [
      "https://tse1-mm.cn.bing.net/th/id/OET.509714ed371341c2ae7538b1645a14c7?w=135&h=135&c=7&rs=1&o=5&pid=1.9\n"
     ]
    },
    {
     "data": {
      "text/markdown": [
       "![](https://tse1-mm.cn.bing.net/th/id/OET.509714ed371341c2ae7538b1645a14c7?w=135&h=135&c=7&rs=1&o=5&pid=1.9)"
      ],
      "text/plain": [
       "<IPython.core.display.Markdown object>"
      ]
     },
     "metadata": {},
     "output_type": "display_data"
    },
    {
     "name": "stdout",
     "output_type": "stream",
     "text": [
      "https://tse1-mm.cn.bing.net/th/id/OET.fa414e4eb8aa4969b1e7160c78811e1a?w=135&h=135&c=7&rs=1&o=5&pid=1.9\n"
     ]
    },
    {
     "data": {
      "text/markdown": [
       "![](https://tse1-mm.cn.bing.net/th/id/OET.fa414e4eb8aa4969b1e7160c78811e1a?w=135&h=135&c=7&rs=1&o=5&pid=1.9)"
      ],
      "text/plain": [
       "<IPython.core.display.Markdown object>"
      ]
     },
     "metadata": {},
     "output_type": "display_data"
    },
    {
     "name": "stdout",
     "output_type": "stream",
     "text": [
      "https://tse1-mm.cn.bing.net/th/id/OET.68a825be6b82468e87d594ca5cea921d?w=135&h=135&c=7&rs=1&o=5&pid=1.9\n"
     ]
    },
    {
     "data": {
      "text/markdown": [
       "![](https://tse1-mm.cn.bing.net/th/id/OET.68a825be6b82468e87d594ca5cea921d?w=135&h=135&c=7&rs=1&o=5&pid=1.9)"
      ],
      "text/plain": [
       "<IPython.core.display.Markdown object>"
      ]
     },
     "metadata": {},
     "output_type": "display_data"
    },
    {
     "name": "stdout",
     "output_type": "stream",
     "text": [
      "https://tse1-mm.cn.bing.net/th/id/OET.6570bfa2065f4f2c8074b99429c29e74?w=272&h=272&c=7&rs=1&o=5&pid=1.9\n"
     ]
    },
    {
     "data": {
      "text/markdown": [
       "![](https://tse1-mm.cn.bing.net/th/id/OET.6570bfa2065f4f2c8074b99429c29e74?w=272&h=272&c=7&rs=1&o=5&pid=1.9)"
      ],
      "text/plain": [
       "<IPython.core.display.Markdown object>"
      ]
     },
     "metadata": {},
     "output_type": "display_data"
    },
    {
     "name": "stdout",
     "output_type": "stream",
     "text": [
      "https://tse1-mm.cn.bing.net/th/id/OET.548058d6281c4ffa9d571f839910f32a?w=272&h=135&c=7&rs=1&o=5&pid=1.9\n"
     ]
    },
    {
     "data": {
      "text/markdown": [
       "![](https://tse1-mm.cn.bing.net/th/id/OET.548058d6281c4ffa9d571f839910f32a?w=272&h=135&c=7&rs=1&o=5&pid=1.9)"
      ],
      "text/plain": [
       "<IPython.core.display.Markdown object>"
      ]
     },
     "metadata": {},
     "output_type": "display_data"
    },
    {
     "name": "stdout",
     "output_type": "stream",
     "text": [
      "https://tse1-mm.cn.bing.net/th/id/OET.80281b69d95b48bc8a466fcdffad5173?w=272&h=135&c=7&rs=1&o=5&pid=1.9\n"
     ]
    },
    {
     "data": {
      "text/markdown": [
       "![](https://tse1-mm.cn.bing.net/th/id/OET.80281b69d95b48bc8a466fcdffad5173?w=272&h=135&c=7&rs=1&o=5&pid=1.9)"
      ],
      "text/plain": [
       "<IPython.core.display.Markdown object>"
      ]
     },
     "metadata": {},
     "output_type": "display_data"
    },
    {
     "name": "stdout",
     "output_type": "stream",
     "text": [
      "https://tse1-mm.cn.bing.net/th/id/OET.1eadcb1402d74bb295fff97db1bf6600?w=272&h=135&c=7&rs=1&o=5&pid=1.9\n"
     ]
    },
    {
     "data": {
      "text/markdown": [
       "![](https://tse1-mm.cn.bing.net/th/id/OET.1eadcb1402d74bb295fff97db1bf6600?w=272&h=135&c=7&rs=1&o=5&pid=1.9)"
      ],
      "text/plain": [
       "<IPython.core.display.Markdown object>"
      ]
     },
     "metadata": {},
     "output_type": "display_data"
    },
    {
     "name": "stdout",
     "output_type": "stream",
     "text": [
      "https://tse1-mm.cn.bing.net/th/id/OET.de53e76d3f3d4a479eb8739b74f81440?w=272&h=135&c=7&rs=1&o=5&pid=1.9\n"
     ]
    },
    {
     "data": {
      "text/markdown": [
       "![](https://tse1-mm.cn.bing.net/th/id/OET.de53e76d3f3d4a479eb8739b74f81440?w=272&h=135&c=7&rs=1&o=5&pid=1.9)"
      ],
      "text/plain": [
       "<IPython.core.display.Markdown object>"
      ]
     },
     "metadata": {},
     "output_type": "display_data"
    },
    {
     "name": "stdout",
     "output_type": "stream",
     "text": [
      "https://tse1-mm.cn.bing.net/th/id/OET.e19d34f3918d4fa982966ba08fd4c07d?w=272&h=135&c=7&rs=1&o=5&pid=1.9\n"
     ]
    },
    {
     "data": {
      "text/markdown": [
       "![](https://tse1-mm.cn.bing.net/th/id/OET.e19d34f3918d4fa982966ba08fd4c07d?w=272&h=135&c=7&rs=1&o=5&pid=1.9)"
      ],
      "text/plain": [
       "<IPython.core.display.Markdown object>"
      ]
     },
     "metadata": {},
     "output_type": "display_data"
    },
    {
     "name": "stdout",
     "output_type": "stream",
     "text": [
      "https://tse1-mm.cn.bing.net/th/id/OET.0a8ed06811b549b48a1917ad0ec2e055?w=272&h=135&c=7&rs=1&o=5&pid=1.9\n"
     ]
    },
    {
     "data": {
      "text/markdown": [
       "![](https://tse1-mm.cn.bing.net/th/id/OET.0a8ed06811b549b48a1917ad0ec2e055?w=272&h=135&c=7&rs=1&o=5&pid=1.9)"
      ],
      "text/plain": [
       "<IPython.core.display.Markdown object>"
      ]
     },
     "metadata": {},
     "output_type": "display_data"
    },
    {
     "name": "stdout",
     "output_type": "stream",
     "text": [
      "https://tse1-mm.cn.bing.net/th/id/OET.4ef5bf6f0ae1423abe844d8242f55a80?w=135&h=135&c=7&rs=1&o=5&pid=1.9\n"
     ]
    },
    {
     "data": {
      "text/markdown": [
       "![](https://tse1-mm.cn.bing.net/th/id/OET.4ef5bf6f0ae1423abe844d8242f55a80?w=135&h=135&c=7&rs=1&o=5&pid=1.9)"
      ],
      "text/plain": [
       "<IPython.core.display.Markdown object>"
      ]
     },
     "metadata": {},
     "output_type": "display_data"
    },
    {
     "name": "stdout",
     "output_type": "stream",
     "text": [
      "https://tse1-mm.cn.bing.net/th/id/OET.3c15354dfdd047ab93fe96f196ad07cb?w=135&h=135&c=7&rs=1&o=5&pid=1.9\n"
     ]
    },
    {
     "data": {
      "text/markdown": [
       "![](https://tse1-mm.cn.bing.net/th/id/OET.3c15354dfdd047ab93fe96f196ad07cb?w=135&h=135&c=7&rs=1&o=5&pid=1.9)"
      ],
      "text/plain": [
       "<IPython.core.display.Markdown object>"
      ]
     },
     "metadata": {},
     "output_type": "display_data"
    },
    {
     "name": "stdout",
     "output_type": "stream",
     "text": [
      "https://tse1-mm.cn.bing.net/th/id/OET.014e47747fd744729136663e06d30322?w=135&h=135&c=7&rs=1&o=5&pid=1.9\n"
     ]
    },
    {
     "data": {
      "text/markdown": [
       "![](https://tse1-mm.cn.bing.net/th/id/OET.014e47747fd744729136663e06d30322?w=135&h=135&c=7&rs=1&o=5&pid=1.9)"
      ],
      "text/plain": [
       "<IPython.core.display.Markdown object>"
      ]
     },
     "metadata": {},
     "output_type": "display_data"
    },
    {
     "name": "stdout",
     "output_type": "stream",
     "text": [
      "https://tse1-mm.cn.bing.net/th/id/OET.311ab2c108ce49efb855fed17cae87f8?w=135&h=135&c=7&rs=1&o=5&pid=1.9\n"
     ]
    },
    {
     "data": {
      "text/markdown": [
       "![](https://tse1-mm.cn.bing.net/th/id/OET.311ab2c108ce49efb855fed17cae87f8?w=135&h=135&c=7&rs=1&o=5&pid=1.9)"
      ],
      "text/plain": [
       "<IPython.core.display.Markdown object>"
      ]
     },
     "metadata": {},
     "output_type": "display_data"
    },
    {
     "name": "stdout",
     "output_type": "stream",
     "text": [
      "https://tse1-mm.cn.bing.net/th/id/OET.13be13dfa85948e49ee8fbc70403d6c5?w=272&h=272&c=7&rs=1&o=5&pid=1.9\n"
     ]
    },
    {
     "data": {
      "text/markdown": [
       "![](https://tse1-mm.cn.bing.net/th/id/OET.13be13dfa85948e49ee8fbc70403d6c5?w=272&h=272&c=7&rs=1&o=5&pid=1.9)"
      ],
      "text/plain": [
       "<IPython.core.display.Markdown object>"
      ]
     },
     "metadata": {},
     "output_type": "display_data"
    },
    {
     "name": "stdout",
     "output_type": "stream",
     "text": [
      "https://tse1-mm.cn.bing.net/th/id/OET.c278f8963dfe49ff9d896dac6cd4db70?w=272&h=135&c=7&rs=1&o=5&pid=1.9\n"
     ]
    },
    {
     "data": {
      "text/markdown": [
       "![](https://tse1-mm.cn.bing.net/th/id/OET.c278f8963dfe49ff9d896dac6cd4db70?w=272&h=135&c=7&rs=1&o=5&pid=1.9)"
      ],
      "text/plain": [
       "<IPython.core.display.Markdown object>"
      ]
     },
     "metadata": {},
     "output_type": "display_data"
    },
    {
     "name": "stdout",
     "output_type": "stream",
     "text": [
      "https://tse1-mm.cn.bing.net/th/id/OET.e662e33e5f61405ea35606f21bebd306?w=272&h=135&c=7&rs=1&o=5&pid=1.9\n"
     ]
    },
    {
     "data": {
      "text/markdown": [
       "![](https://tse1-mm.cn.bing.net/th/id/OET.e662e33e5f61405ea35606f21bebd306?w=272&h=135&c=7&rs=1&o=5&pid=1.9)"
      ],
      "text/plain": [
       "<IPython.core.display.Markdown object>"
      ]
     },
     "metadata": {},
     "output_type": "display_data"
    },
    {
     "name": "stdout",
     "output_type": "stream",
     "text": [
      "https://tse1-mm.cn.bing.net/th/id/OET.28fd0f0ab6344e5cb21400966cb1bd4d?w=272&h=135&c=7&rs=1&o=5&pid=1.9\n"
     ]
    },
    {
     "data": {
      "text/markdown": [
       "![](https://tse1-mm.cn.bing.net/th/id/OET.28fd0f0ab6344e5cb21400966cb1bd4d?w=272&h=135&c=7&rs=1&o=5&pid=1.9)"
      ],
      "text/plain": [
       "<IPython.core.display.Markdown object>"
      ]
     },
     "metadata": {},
     "output_type": "display_data"
    },
    {
     "name": "stdout",
     "output_type": "stream",
     "text": [
      "https://tse1-mm.cn.bing.net/th/id/OET.925b40d875fa4de792eafca813066152?w=272&h=135&c=7&rs=1&o=5&pid=1.9\n"
     ]
    },
    {
     "data": {
      "text/markdown": [
       "![](https://tse1-mm.cn.bing.net/th/id/OET.925b40d875fa4de792eafca813066152?w=272&h=135&c=7&rs=1&o=5&pid=1.9)"
      ],
      "text/plain": [
       "<IPython.core.display.Markdown object>"
      ]
     },
     "metadata": {},
     "output_type": "display_data"
    },
    {
     "name": "stdout",
     "output_type": "stream",
     "text": [
      "https://tse1-mm.cn.bing.net/th/id/OET.52f4abd4696b4130953af7affa14f8a8?w=272&h=135&c=7&rs=1&o=5&pid=1.9\n"
     ]
    },
    {
     "data": {
      "text/markdown": [
       "![](https://tse1-mm.cn.bing.net/th/id/OET.52f4abd4696b4130953af7affa14f8a8?w=272&h=135&c=7&rs=1&o=5&pid=1.9)"
      ],
      "text/plain": [
       "<IPython.core.display.Markdown object>"
      ]
     },
     "metadata": {},
     "output_type": "display_data"
    },
    {
     "name": "stdout",
     "output_type": "stream",
     "text": [
      "https://tse1-mm.cn.bing.net/th/id/OET.e709992723d94bfcbdea2455d661def0?w=272&h=135&c=7&rs=1&o=5&pid=1.9\n"
     ]
    },
    {
     "data": {
      "text/markdown": [
       "![](https://tse1-mm.cn.bing.net/th/id/OET.e709992723d94bfcbdea2455d661def0?w=272&h=135&c=7&rs=1&o=5&pid=1.9)"
      ],
      "text/plain": [
       "<IPython.core.display.Markdown object>"
      ]
     },
     "metadata": {},
     "output_type": "display_data"
    },
    {
     "name": "stdout",
     "output_type": "stream",
     "text": [
      "https://tse1-mm.cn.bing.net/th/id/OET.8f8f61c7a67944758e1e85de7c4cfabf?w=135&h=135&c=7&rs=1&o=5&pid=1.9\n"
     ]
    },
    {
     "data": {
      "text/markdown": [
       "![](https://tse1-mm.cn.bing.net/th/id/OET.8f8f61c7a67944758e1e85de7c4cfabf?w=135&h=135&c=7&rs=1&o=5&pid=1.9)"
      ],
      "text/plain": [
       "<IPython.core.display.Markdown object>"
      ]
     },
     "metadata": {},
     "output_type": "display_data"
    },
    {
     "name": "stdout",
     "output_type": "stream",
     "text": [
      "https://tse1-mm.cn.bing.net/th/id/OET.d8fd1f230e9e49e397515b081766c2e2?w=135&h=135&c=7&rs=1&o=5&pid=1.9\n"
     ]
    },
    {
     "data": {
      "text/markdown": [
       "![](https://tse1-mm.cn.bing.net/th/id/OET.d8fd1f230e9e49e397515b081766c2e2?w=135&h=135&c=7&rs=1&o=5&pid=1.9)"
      ],
      "text/plain": [
       "<IPython.core.display.Markdown object>"
      ]
     },
     "metadata": {},
     "output_type": "display_data"
    },
    {
     "name": "stdout",
     "output_type": "stream",
     "text": [
      "https://tse1-mm.cn.bing.net/th/id/OET.bc987d4922c64b6a8c448cc6b2cb99c1?w=135&h=135&c=7&rs=1&o=5&pid=1.9\n"
     ]
    },
    {
     "data": {
      "text/markdown": [
       "![](https://tse1-mm.cn.bing.net/th/id/OET.bc987d4922c64b6a8c448cc6b2cb99c1?w=135&h=135&c=7&rs=1&o=5&pid=1.9)"
      ],
      "text/plain": [
       "<IPython.core.display.Markdown object>"
      ]
     },
     "metadata": {},
     "output_type": "display_data"
    },
    {
     "name": "stdout",
     "output_type": "stream",
     "text": [
      "https://tse1-mm.cn.bing.net/th/id/OET.a878a7ad236549fe89ec1eb1b1bffd0b?w=135&h=135&c=7&rs=1&o=5&pid=1.9\n"
     ]
    },
    {
     "data": {
      "text/markdown": [
       "![](https://tse1-mm.cn.bing.net/th/id/OET.a878a7ad236549fe89ec1eb1b1bffd0b?w=135&h=135&c=7&rs=1&o=5&pid=1.9)"
      ],
      "text/plain": [
       "<IPython.core.display.Markdown object>"
      ]
     },
     "metadata": {},
     "output_type": "display_data"
    },
    {
     "name": "stdout",
     "output_type": "stream",
     "text": [
      "https://tse1-mm.cn.bing.net/th/id/OET.e467266179b6400296e48a979d03e696?w=272&h=272&c=7&rs=1&o=5&pid=1.9\n"
     ]
    },
    {
     "data": {
      "text/markdown": [
       "![](https://tse1-mm.cn.bing.net/th/id/OET.e467266179b6400296e48a979d03e696?w=272&h=272&c=7&rs=1&o=5&pid=1.9)"
      ],
      "text/plain": [
       "<IPython.core.display.Markdown object>"
      ]
     },
     "metadata": {},
     "output_type": "display_data"
    },
    {
     "name": "stdout",
     "output_type": "stream",
     "text": [
      "https://tse1-mm.cn.bing.net/th/id/OET.9c8f4475433546bb9524895b1634db32?w=272&h=135&c=7&rs=1&o=5&pid=1.9\n"
     ]
    },
    {
     "data": {
      "text/markdown": [
       "![](https://tse1-mm.cn.bing.net/th/id/OET.9c8f4475433546bb9524895b1634db32?w=272&h=135&c=7&rs=1&o=5&pid=1.9)"
      ],
      "text/plain": [
       "<IPython.core.display.Markdown object>"
      ]
     },
     "metadata": {},
     "output_type": "display_data"
    },
    {
     "name": "stdout",
     "output_type": "stream",
     "text": [
      "https://tse1-mm.cn.bing.net/th/id/OET.b910d62ca7224b48b799485ff633fbe9?w=272&h=135&c=7&rs=1&o=5&pid=1.9\n"
     ]
    },
    {
     "data": {
      "text/markdown": [
       "![](https://tse1-mm.cn.bing.net/th/id/OET.b910d62ca7224b48b799485ff633fbe9?w=272&h=135&c=7&rs=1&o=5&pid=1.9)"
      ],
      "text/plain": [
       "<IPython.core.display.Markdown object>"
      ]
     },
     "metadata": {},
     "output_type": "display_data"
    },
    {
     "name": "stdout",
     "output_type": "stream",
     "text": [
      "https://tse1-mm.cn.bing.net/th/id/OET.d88228c37ad848e4975c4725cdb24983?w=272&h=135&c=7&rs=1&o=5&pid=1.9\n"
     ]
    },
    {
     "data": {
      "text/markdown": [
       "![](https://tse1-mm.cn.bing.net/th/id/OET.d88228c37ad848e4975c4725cdb24983?w=272&h=135&c=7&rs=1&o=5&pid=1.9)"
      ],
      "text/plain": [
       "<IPython.core.display.Markdown object>"
      ]
     },
     "metadata": {},
     "output_type": "display_data"
    },
    {
     "name": "stdout",
     "output_type": "stream",
     "text": [
      "https://tse1-mm.cn.bing.net/th/id/OET.c0beeb3881cc4f7fa28f0487ec2da039?w=272&h=135&c=7&rs=1&o=5&pid=1.9\n"
     ]
    },
    {
     "data": {
      "text/markdown": [
       "![](https://tse1-mm.cn.bing.net/th/id/OET.c0beeb3881cc4f7fa28f0487ec2da039?w=272&h=135&c=7&rs=1&o=5&pid=1.9)"
      ],
      "text/plain": [
       "<IPython.core.display.Markdown object>"
      ]
     },
     "metadata": {},
     "output_type": "display_data"
    },
    {
     "name": "stdout",
     "output_type": "stream",
     "text": [
      "https://tse1-mm.cn.bing.net/th/id/OET.45d8eb27b73b43719df3ea23568cc299?w=272&h=135&c=7&rs=1&o=5&pid=1.9\n"
     ]
    },
    {
     "data": {
      "text/markdown": [
       "![](https://tse1-mm.cn.bing.net/th/id/OET.45d8eb27b73b43719df3ea23568cc299?w=272&h=135&c=7&rs=1&o=5&pid=1.9)"
      ],
      "text/plain": [
       "<IPython.core.display.Markdown object>"
      ]
     },
     "metadata": {},
     "output_type": "display_data"
    },
    {
     "name": "stdout",
     "output_type": "stream",
     "text": [
      "https://tse1-mm.cn.bing.net/th/id/OET.7ce6dc322d2d4ff0970c36b17fcf363c?w=272&h=135&c=7&rs=1&o=5&pid=1.9\n"
     ]
    },
    {
     "data": {
      "text/markdown": [
       "![](https://tse1-mm.cn.bing.net/th/id/OET.7ce6dc322d2d4ff0970c36b17fcf363c?w=272&h=135&c=7&rs=1&o=5&pid=1.9)"
      ],
      "text/plain": [
       "<IPython.core.display.Markdown object>"
      ]
     },
     "metadata": {},
     "output_type": "display_data"
    },
    {
     "name": "stdout",
     "output_type": "stream",
     "text": [
      "https://tse1-mm.cn.bing.net/th/id/OET.ecf975724f74437aa9f9ad1463df0cb0?w=135&h=135&c=7&rs=1&o=5&pid=1.9\n"
     ]
    },
    {
     "data": {
      "text/markdown": [
       "![](https://tse1-mm.cn.bing.net/th/id/OET.ecf975724f74437aa9f9ad1463df0cb0?w=135&h=135&c=7&rs=1&o=5&pid=1.9)"
      ],
      "text/plain": [
       "<IPython.core.display.Markdown object>"
      ]
     },
     "metadata": {},
     "output_type": "display_data"
    },
    {
     "name": "stdout",
     "output_type": "stream",
     "text": [
      "https://tse1-mm.cn.bing.net/th/id/OET.28852aa91ef54138a6945ef6f0954986?w=135&h=135&c=7&rs=1&o=5&pid=1.9\n"
     ]
    },
    {
     "data": {
      "text/markdown": [
       "![](https://tse1-mm.cn.bing.net/th/id/OET.28852aa91ef54138a6945ef6f0954986?w=135&h=135&c=7&rs=1&o=5&pid=1.9)"
      ],
      "text/plain": [
       "<IPython.core.display.Markdown object>"
      ]
     },
     "metadata": {},
     "output_type": "display_data"
    },
    {
     "name": "stdout",
     "output_type": "stream",
     "text": [
      "https://tse1-mm.cn.bing.net/th/id/OET.736ec8974a93411487f3231eec4923bb?w=135&h=135&c=7&rs=1&o=5&pid=1.9\n"
     ]
    },
    {
     "data": {
      "text/markdown": [
       "![](https://tse1-mm.cn.bing.net/th/id/OET.736ec8974a93411487f3231eec4923bb?w=135&h=135&c=7&rs=1&o=5&pid=1.9)"
      ],
      "text/plain": [
       "<IPython.core.display.Markdown object>"
      ]
     },
     "metadata": {},
     "output_type": "display_data"
    },
    {
     "name": "stdout",
     "output_type": "stream",
     "text": [
      "https://tse1-mm.cn.bing.net/th/id/OET.8cccc6ae58de402aabbc4611e041741f?w=135&h=135&c=7&rs=1&o=5&pid=1.9\n"
     ]
    },
    {
     "data": {
      "text/markdown": [
       "![](https://tse1-mm.cn.bing.net/th/id/OET.8cccc6ae58de402aabbc4611e041741f?w=135&h=135&c=7&rs=1&o=5&pid=1.9)"
      ],
      "text/plain": [
       "<IPython.core.display.Markdown object>"
      ]
     },
     "metadata": {},
     "output_type": "display_data"
    },
    {
     "name": "stdout",
     "output_type": "stream",
     "text": [
      "/rs/5h/L6/ic/4907366b/da274d75.png\n"
     ]
    },
    {
     "data": {
      "text/markdown": [
       "![](/rs/5h/L6/ic/4907366b/da274d75.png)"
      ],
      "text/plain": [
       "<IPython.core.display.Markdown object>"
      ]
     },
     "metadata": {},
     "output_type": "display_data"
    }
   ],
   "source": [
    "from requests_html import HTMLSession\n",
    "\n",
    "session = HTMLSession()\n",
    "\n",
    "r = session.get(\"https://cn.bing.com/images/trending\")\n",
    "\n",
    "# 通过xpath找到工作标签\n",
    "items = r.html.xpath('//img/@src')\n",
    "\n",
    "for url in items:\n",
    "    print(url)  # 获得图片src url\n",
    "    display(Markdown('![]({url})'.format(url=url)))  # 展示图片    "
   ]
  },
  {
   "cell_type": "markdown",
   "metadata": {
    "slideshow": {
     "slide_type": "slide"
    }
   },
   "source": [
    "\n",
    "## 总结你学到什麽新东西？\n",
    "* A\n",
    "* B\n",
    "* C\n",
    "\n",
    "\n",
    "## 总结你想会做什麽？\n",
    "* A\n",
    "* B\n",
    "* C\n"
   ]
  },
  {
   "cell_type": "markdown",
   "metadata": {
    "slideshow": {
     "slide_type": "fragment"
    }
   },
   "source": [
    "---\n",
    "结束\n",
    "# 小结 😍😲😙🤭😱"
   ]
  },
  {
   "cell_type": "code",
   "execution_count": null,
   "metadata": {},
   "outputs": [],
   "source": []
  }
 ],
 "metadata": {
  "celltoolbar": "Slideshow",
  "kernelspec": {
   "display_name": "Python 3",
   "language": "python",
   "name": "python3"
  },
  "language_info": {
   "codemirror_mode": {
    "name": "ipython",
    "version": 3
   },
   "file_extension": ".py",
   "mimetype": "text/x-python",
   "name": "python",
   "nbconvert_exporter": "python",
   "pygments_lexer": "ipython3",
   "version": "3.7.3"
  },
  "toc": {
   "base_numbering": 1,
   "nav_menu": {},
   "number_sections": true,
   "sideBar": true,
   "skip_h1_title": false,
   "title_cell": "Table of Contents",
   "title_sidebar": "Contents",
   "toc_cell": false,
   "toc_position": {
    "height": "calc(100% - 180px)",
    "left": "10px",
    "top": "150px",
    "width": "256px"
   },
   "toc_section_display": true,
   "toc_window_display": true
  }
 },
 "nbformat": 4,
 "nbformat_minor": 2
}
