{
 "cells": [
  {
   "cell_type": "markdown",
   "metadata": {
    "slideshow": {
     "slide_type": "slide"
    }
   },
   "source": [
    "# 20春_Web数据挖掘\n",
    "# 项目0 by 廖汉腾, 许智超"
   ]
  },
  {
   "cell_type": "markdown",
   "metadata": {
    "slideshow": {
     "slide_type": "fragment"
    }
   },
   "source": [
    "### 抄用最人性化的模块\n",
    "* 来源 [最新的爬虫工具requests-html](https://www.cnblogs.com/fnng/p/8948015.html)\n",
    "* 文档 [requests-html](https://requests-html.kennethreitz.org/)\n",
    "\n",
    "####  项目0.A cnblogs 新闻"
   ]
  },
  {
   "cell_type": "code",
   "execution_count": 1,
   "metadata": {
    "slideshow": {
     "slide_type": "subslide"
    }
   },
   "outputs": [
    {
     "name": "stdout",
     "output_type": "stream",
     "text": [
      "三个网红的十年：愤然一跃，坠入大海\n",
      "{'https://news.cnblogs.com/n/657715/'}\n",
      "马斯克要发4.2万颗卫星 为何中国版“星链”迫在眉睫\n",
      "{'https://news.cnblogs.com/n/657714/'}\n",
      "马云的口罩之交\n",
      "{'https://news.cnblogs.com/n/657658/'}\n",
      "疫情中的快递、外卖员：我们在工作 就代表城市在运转\n",
      "{'https://news.cnblogs.com/n/657645/'}\n",
      "比尔盖茨退休：这位世界首富的峥嵘65年\n",
      "{'https://news.cnblogs.com/n/657621/'}\n",
      "上海大学副教授“变身”萝莉，自制软件二次元上网课\n",
      "{'https://news.cnblogs.com/n/657564/'}\n",
      "微软放弃继续开发 Visual Basic\n",
      "{'https://news.cnblogs.com/n/657614/'}\n",
      "Soul合伙人被抓，恶意竞争背后是创业者初心尽失\n",
      "{'https://news.cnblogs.com/n/657606/'}\n",
      "“3·15”曝光高炮新闻的幕后推手\n",
      "{'https://news.cnblogs.com/n/657565/'}\n",
      "张朝阳与马云的颠倒人生\n",
      "{'https://news.cnblogs.com/n/657547/'}\n",
      "“ 不要放过那个 B 站 ”\n",
      "{'https://news.cnblogs.com/n/657546/'}\n",
      "Nature：AI增强版“滴血测癌”，准确率高达86%！\n",
      "{'https://news.cnblogs.com/n/657480/'}\n",
      "白天添瓦，晚上拆墙，这群工程师把苹果的秘密扒个底朝天\n",
      "{'https://news.cnblogs.com/n/657488/'}\n",
      "孙正义欲捐 100 万份病毒检测试剂，两小时被日本网友批到放弃\n",
      "{'https://news.cnblogs.com/n/657493/'}\n",
      "养猪、遛狗、养鸡能赚钱，骗了谁？\n",
      "{'https://news.cnblogs.com/n/657464/'}\n",
      "马斯克先生，请你来了中国也不要太嚣张\n",
      "{'https://news.cnblogs.com/n/657456/'}\n",
      "产品视频被曝合成，用AI造出4个工程师，这家公司火了\n",
      "{'https://news.cnblogs.com/n/657454/'}\n",
      "微软发布.NET Core卸载工具 Windows和macOS平台已上线\n",
      "{'https://news.cnblogs.com/n/657435/'}\n"
     ]
    }
   ],
   "source": [
    "from requests_html import HTMLSession\n",
    "#1、 使用session抓页面\n",
    "session = HTMLSession()\n",
    "r = session.get(\"https://news.cnblogs.com/n/recommend\")\n",
    "\n",
    "#2、使用.find (CSS selector; r.html.find)\n",
    "# 通过CSS找到新闻标签\n",
    "news = r.html.find('h2.news_entry > a')\n",
    "\n",
    "#3、输出结果\n",
    "for new in news:\n",
    "    print(new.text)  # 获得新闻标题\n",
    "    print(new.absolute_links)  # 获得新闻链接"
   ]
  },
  {
   "cell_type": "markdown",
   "metadata": {
    "slideshow": {
     "slide_type": "slide"
    }
   },
   "source": [
    "### 不是算Python的内容：HTML 之 xpath 与 selector\n",
    "\n",
    "接下来需要选择器selector抽取数据img，借用HTML的\"结构\"性(chrome要从页面选到结构，你懂的)，有两种可能，必记下来\n",
    "* xpath \n",
    "* CSS selector\n",
    "\n",
    "试第一个和另一个，看看有什麽规律 (侦探活)\n",
    "Chrome Console下使用Javascript\n",
    "* xpath: \n",
    "```$x(\"放这\")```\n",
    "\n",
    "* CSS: \n",
    "``` $(\"放这\") ```\n",
    "\n",
    "-----\n",
    "\n",
    "####  项目0.B liepin 工作"
   ]
  },
  {
   "cell_type": "code",
   "execution_count": 1,
   "metadata": {
    "slideshow": {
     "slide_type": "subslide"
    }
   },
   "outputs": [
    {
     "name": "stdout",
     "output_type": "stream",
     "text": [
      "用户研究主任工程师\n",
      "{'https://www.liepin.com/job/1926825313.shtml'}\n",
      "用户研究主任工程师\n",
      "{'https://www.liepin.com/job/1926825311.shtml'}\n",
      "用户研究专家\n",
      "{'https://www.liepin.com/job/1926823961.shtml'}\n",
      "用户研究专家\n",
      "{'https://www.liepin.com/job/1926700945.shtml'}\n",
      "资深数据挖掘工程师-雷火用户体验研究中心001\n",
      "{'https://www.liepin.com/job/1926571709.shtml'}\n",
      "用户研究\n",
      "{'https://www.liepin.com/job/1926495493.shtml'}\n",
      "用户研究-美团App\n",
      "{'https://www.liepin.com/job/1926441509.shtml'}\n",
      "用户研究岗\n",
      "{'https://www.liepin.com/job/1926381443.shtml'}\n",
      "用户研究工程师\n",
      "{'https://www.liepin.com/job/1926365071.shtml'}\n",
      "用户研究专家\n",
      "{'https://www.liepin.com/job/1926363739.shtml'}\n",
      "用户研究专家/经理（用户层面）(J10514)\n",
      "{'https://www.liepin.com/job/1926363703.shtml'}\n",
      "用户研究专家\n",
      "{'https://www.liepin.com/job/1925849789.shtml'}\n",
      "用户研究\n",
      "{'https://www.liepin.com/job/1925827427.shtml'}\n",
      "交互设计总监/设计总监/用户研究\n",
      "{'https://www.liepin.com/job/1925724787.shtml'}\n",
      "信息流-用户画像算法研究员\n",
      "{'https://www.liepin.com/job/1925699043.shtml'}\n",
      "用户研究-C0108\n",
      "{'https://www.liepin.com/job/1925697071.shtml'}\n",
      "用户研究-快驴事业部\n",
      "{'https://www.liepin.com/job/1925598179.shtml'}\n",
      "用户研究员-小象事业部\n",
      "{'https://www.liepin.com/job/1925515311.shtml'}\n",
      "高级用户研究\n",
      "{'https://www.liepin.com/job/1925499801.shtml'}\n",
      "用户研究\n",
      "{'https://www.liepin.com/job/1925413705.shtml'}\n",
      "用户研究-美团单车\n",
      "{'https://www.liepin.com/job/1925099591.shtml'}\n",
      "SPOS-用户研究工程师-外包岗\n",
      "{'https://www.liepin.com/job/1925081121.shtml'}\n",
      "用户研究-用户体验部金融服务平台\n",
      "{'https://www.liepin.com/job/1925040845.shtml'}\n",
      "用户研究经理\n",
      "{'https://www.liepin.com/job/1924951811.shtml'}\n",
      "用户研究与产品体验专员\n",
      "{'https://www.liepin.com/job/1924943737.shtml'}\n",
      "用户研究\n",
      "{'https://www.liepin.com/job/1923805315.shtml'}\n",
      "用户体验部—用户研究\n",
      "{'https://www.liepin.com/job/1923323567.shtml'}\n",
      "高级用户研究工程师(J10445)\n",
      "{'https://www.liepin.com/job/1922344451.shtml'}\n",
      "高级用户研究\n",
      "{'https://www.liepin.com/job/1920972439.shtml'}\n",
      "用户研究\n",
      "{'https://www.liepin.com/job/1920187811.shtml'}\n",
      "用户研究高级工程师\n",
      "{'https://www.liepin.com/a/19404627.shtml'}\n",
      "用户研究员（定量） #219026\n",
      "{'https://www.liepin.com/a/19366525.shtml'}\n",
      "用户研究高级工程师\n",
      "{'https://www.liepin.com/a/19364845.shtml'}\n",
      "用户研究\n",
      "{'https://www.liepin.com/a/19346409.shtml'}\n",
      "用户研究岗\n",
      "{'https://www.liepin.com/a/19275031.shtml'}\n",
      "高级用户研究\n",
      "{'https://www.liepin.com/a/19259111.shtml'}\n",
      "用户研究\n",
      "{'https://www.liepin.com/a/19258415.shtml'}\n",
      "用户研究高级经理\n",
      "{'https://www.liepin.com/a/19250069.shtml'}\n",
      "用户体验研究工程师\n",
      "{'https://www.liepin.com/a/19248833.shtml'}\n",
      "用户体验研究总监（前瞻性体验研究）\n",
      "{'https://www.liepin.com/job/1919240807.shtml'}\n"
     ]
    }
   ],
   "source": [
    "from requests_html import HTMLSession\n",
    "\n",
    "session = HTMLSession()\n",
    "\n",
    "r = session.get(\"https://www.liepin.com/zhaopin/?key=用户研究\")\n",
    "\n",
    "# 通过xpath找到工作标签\n",
    "news = r.html.xpath('//div[@class=\"job-info\"]/h3/a')\n",
    "#// 表示从匹配选择的当前节点选择文档中的节点，而不考虑它们的位置；/表示从根节点选取；\n",
    "\n",
    "for new in news:\n",
    "    print(new.text)  # 获得工作标题\n",
    "    print(new.absolute_links)  # 获得工作链接"
   ]
  },
  {
   "cell_type": "code",
   "execution_count": 19,
   "metadata": {},
   "outputs": [
    {
     "name": "stdout",
     "output_type": "stream",
     "text": [
      "移动端产品经理\n",
      "{'https://www.liepin.com/job/1924952323.shtml'}\n",
      "产品经理（可视化）\n",
      "{'https://www.liepin.com/job/1924693097.shtml'}\n",
      "高级产品经理\n",
      "{'https://www.liepin.com/job/1923299753.shtml'}\n",
      "中台数据产品经理\n",
      "{'https://www.liepin.com/job/1923140269.shtml'}\n",
      "产品经理\n",
      "{'https://www.liepin.com/job/1924135939.shtml'}\n",
      "PM\n",
      "{'https://www.liepin.com/job/1919761567.shtml'}\n",
      "硬件产品经理（选品方向）\n",
      "{'https://www.liepin.com/job/1920715073.shtml'}\n",
      "BI产品经理（投研大数据）\n",
      "{'https://www.liepin.com/job/1926843083.shtml'}\n",
      "后装产品经理(J10475)\n",
      "{'https://www.liepin.com/job/1926842751.shtml'}\n",
      "软件产品经理(J10474)\n",
      "{'https://www.liepin.com/job/1926842665.shtml'}\n",
      "产业业务部-产品经理岗\n",
      "{'https://www.liepin.com/job/1926838911.shtml'}\n",
      "产品经理\n",
      "{'https://www.liepin.com/job/1926837003.shtml'}\n",
      "产品经理\n",
      "{'https://www.liepin.com/job/1926836871.shtml'}\n",
      "产品主管/经理\n",
      "{'https://www.liepin.com/job/1926833823.shtml'}\n",
      "风险产品经理\n",
      "{'https://www.liepin.com/job/1926824701.shtml'}\n",
      "GIS产品经理\n",
      "{'https://www.liepin.com/job/1926820317.shtml'}\n",
      "万达普惠-互联网产品经理\n",
      "{'https://www.liepin.com/job/1926816405.shtml'}\n",
      "专利产品经理\n",
      "{'https://www.liepin.com/job/1926787487.shtml'}\n",
      "产品经理助理\n",
      "{'https://www.liepin.com/job/1926714491.shtml'}\n",
      "产品设计经理\n",
      "{'https://www.liepin.com/job/1926670753.shtml'}\n",
      "产品经理助理\n",
      "{'https://www.liepin.com/job/1926658233.shtml'}\n",
      "高级产品经理\n",
      "{'https://www.liepin.com/job/1925362781.shtml'}\n",
      "产品经理\n",
      "{'https://www.liepin.com/job/1925206267.shtml'}\n",
      "产品引入商务经理\n",
      "{'https://www.liepin.com/job/1916909411.shtml'}\n",
      "手游产品运营经理\n",
      "{'https://www.liepin.com/job/1916599857.shtml'}\n",
      "对公产品经理（投行、贸融、网金、离岸、信托）\n",
      "{'https://www.liepin.com/job/199532676.shtml'}\n",
      "银行产品经理\n",
      "{'https://www.liepin.com/job/1926801671.shtml'}\n",
      "旅游产品经理\n",
      "{'https://www.liepin.com/job/1926703515.shtml'}\n",
      "资深产品经理（丁香医生）\n",
      "{'https://www.liepin.com/job/1926237339.shtml'}\n",
      "产品经理\n",
      "{'https://www.liepin.com/job/1926150571.shtml'}\n",
      "互联网产品经理\n",
      "{'https://www.liepin.com/job/1926483249.shtml'}\n",
      "产品经理\n",
      "{'https://www.liepin.com/job/1919949395.shtml'}\n",
      "产品经理\n",
      "{'https://www.liepin.com/job/1918768733.shtml'}\n",
      "产品运营副经理\n",
      "{'https://www.liepin.com/job/1926717557.shtml'}\n",
      "高级产品经理（南昌）\n",
      "{'https://www.liepin.com/job/1926765351.shtml'}\n",
      "教育产品经理\n",
      "{'https://www.liepin.com/job/1926759001.shtml'}\n",
      "产品经理\n",
      "{'https://www.liepin.com/job/1925942641.shtml'}\n",
      "销售经理（公寓产品）\n",
      "{'https://www.liepin.com/job/1915824093.shtml'}\n",
      "产品经理/高级产品经理/Product Manager\n",
      "{'https://www.liepin.com/job/1926765575.shtml'}\n",
      "助理产品经理/产品经理\n",
      "{'https://www.liepin.com/job/1926765431.shtml'}\n",
      "相关职位 换一换\n",
      "set()\n",
      "手机版：\n",
      "set()\n"
     ]
    }
   ],
   "source": [
    "from requests_html import HTMLSession\n",
    "session = HTMLSession()\n",
    "\n",
    "r = session.get(\"https://www.liepin.com/zhaopin/?key=产品经理\")\n",
    "\n",
    "# 通过xpath找到工作标签\n",
    "news = r.html.xpath('//*[@id=\"sojob\"]//h3')\n",
    "\n",
    "for new in news:\n",
    "    print(new.text)  # 获得工作标题\n",
    "    print(new.absolute_links)  # 获得工作链接"
   ]
  },
  {
   "cell_type": "markdown",
   "metadata": {
    "slideshow": {
     "slide_type": "subslide"
    }
   },
   "source": [
    "####  展示图\n",
    "* Jupyter 可用的魔法之一 IPython 展示模块, HTML转码"
   ]
  },
  {
   "cell_type": "code",
   "execution_count": 27,
   "metadata": {
    "scrolled": true
   },
   "outputs": [
    {
     "name": "stdout",
     "output_type": "stream",
     "text": [
      "基础设施投资经理\n",
      "面议 深圳-福田区 本科及以上 3年以上\n",
      "前天 投递后：10个工作日内反馈\n",
      "{'https://www.liepin.com/sz/zhaopin/', 'https://www.liepin.com/job/1922735385.shtml'}\n",
      "投资拓展经理\n",
      "面议 北京-丰台体育馆 统招本科 5年以上\n",
      "一个月前 投递后：7个工作日内反馈\n",
      "{'https://www.liepin.com/job/1911217229.shtml', 'https://www.liepin.com/bj/zhaopin/'}\n",
      "投资管理经理\n",
      "面议 成都 统招本科 经验不限\n",
      "2020-03-09 投递后：7个工作日内反馈\n",
      "{'https://www.liepin.com/cd/zhaopin/', 'https://www.liepin.com/job/1914218742.shtml'}\n",
      "投资经理（计算机、人工智能方向）\n",
      "12-20k·14薪 济南 硕士及以上 2年以上\n",
      "昨天 投递后：7个工作日内反馈\n",
      "{'https://www.liepin.com/jinan/zhaopin/', 'https://www.liepin.com/job/1926789619.shtml'}\n",
      "042149-基建投资经理（财务方向，北京）\n",
      "面议 北京 学历不限 3年以上\n",
      "前天 投递后：72小时反馈\n",
      "{'https://www.liepin.com/job/1926779105.shtml', 'https://www.liepin.com/bj/zhaopin/'}\n",
      "投资管理部副总经理ZN20007\n",
      "35-45k·12薪 杭州 本科及以上 8年以上\n",
      "前天 投递后：10个工作日内反馈\n",
      "{'https://www.liepin.com/hz/zhaopin/', 'https://www.liepin.com/job/1926779477.shtml'}\n",
      "商业地产投资经理\n",
      "20-27k·12薪 北京 统招本科 3年以上\n",
      "4小时前 投递后：24小时反馈\n",
      "{'https://www.liepin.com/bj/zhaopin/', 'https://www.liepin.com/job/1926771515.shtml'}\n",
      "投资主管/助理经理\n",
      "15-20k·12薪 广州-天河区 本科及以上 3年以上\n",
      "前天 投递后：24小时反馈\n",
      "{'https://www.liepin.com/job/1926669959.shtml', 'https://www.liepin.com/gz/zhaopin/'}\n",
      "海外商务经理(投资方向)(海外事业部)\n",
      "面议 上海-静安区 硕士及以上 2年以上\n",
      "2020-03-18 投递后：7个工作日内反馈\n",
      "{'https://www.liepin.com/sh/zhaopin/', 'https://www.liepin.com/job/1925758051.shtml'}\n",
      "投资并购经理\n",
      "面议 北京-朝阳区 统招本科 3年以上\n",
      "2020-03-14 投递后：24小时反馈\n",
      "{'https://www.liepin.com/job/1926470177.shtml'}\n",
      "恒天财富-理财经理/投资顾问\n",
      "30-60k·12薪 北京 统招本科 3年以上\n",
      "2020-03-09 投递后：72小时反馈\n",
      "{'https://www.liepin.com/job/1926400383.shtml', 'https://www.liepin.com/bj/zhaopin/'}\n",
      "高级投资经理/VP（TMT方向）\n",
      "33-42k·12薪 北京-海淀区 硕士及以上 5年以上\n",
      "一个月前 投递后：7个工作日内反馈\n",
      "{'https://www.liepin.com/job/1923434335.shtml'}\n",
      "04214D-地产投资经理\n",
      "面议 深圳 学历不限 1年以上\n",
      "一个月前 投递后：72小时反馈\n",
      "{'https://www.liepin.com/sz/zhaopin/', 'https://www.liepin.com/job/1924372139.shtml'}\n",
      "04211V-地产中级投资经理（上海）\n",
      "面议 上海 学历不限 5年以上\n",
      "一个月前 投递后：72小时反馈\n",
      "{'https://www.liepin.com/sh/zhaopin/', 'https://www.liepin.com/job/1918996877.shtml'}\n",
      "产业投资高级经理/总监\n",
      "面议 上海-长宁区 本科及以上 5年以上\n",
      "一个月前 投递后：10个工作日内反馈\n",
      "{'https://www.liepin.com/sh/zhaopin/', 'https://www.liepin.com/job/1918264435.shtml'}\n",
      "市场投资分析主管/经理\n",
      "7-21k·12薪 温州-蒲州 本科及以上 2年以上\n",
      "6小时前 投递后：72小时反馈\n",
      "{'https://www.liepin.com/wenzhou/zhaopin/', 'https://www.liepin.com/job/1926850313.shtml'}\n",
      "理财经理/投资顾问\n",
      "19-26k·12薪 北京-朝阳区 大专及以上 5年以上\n",
      "4小时前 投递后：24小时反馈\n",
      "{'https://www.liepin.com/job/1926849367.shtml'}\n",
      "理财经理/投资顾问\n",
      "7-12k·12薪 长春-朝阳区 本科及以上 3年以上\n",
      "10小时前 投递后：24小时反馈\n",
      "{'https://www.liepin.com/job/1926848793.shtml', 'https://www.liepin.com/changchun/zhaopin/'}\n",
      "高级投资经理-通信与信息技术方向\n",
      "20-35k·12薪 上海-浦东新区 本科及以上 5年以上\n",
      "5小时前 投递后：72小时反馈\n",
      "{'https://www.liepin.com/job/1926839035.shtml', 'https://www.liepin.com/sh/zhaopin/'}\n",
      "高级投资经理-先进制造方向\n",
      "20-35k·12薪 上海-陆家嘴 本科及以上 5年以上\n",
      "5小时前 投递后：72小时反馈\n",
      "{'https://www.liepin.com/sh/zhaopin/', 'https://www.liepin.com/job/1926838837.shtml'}\n",
      "投资经理/总监（新材料方向）\n",
      "15-25k·12薪 扬州 大专及以上 5年以上\n",
      "3小时前 投递后：7个工作日内反馈\n",
      "{'https://www.liepin.com/job/1926822643.shtml', 'https://www.liepin.com/yangzhou/zhaopin/'}\n",
      "投资经理/总监（新材料方向）\n",
      "15-25k·12薪 盐城 大专及以上 5年以上\n",
      "3小时前 投递后：7个工作日内反馈\n",
      "{'https://www.liepin.com/yancheng/zhaopin/', 'https://www.liepin.com/job/1926822641.shtml'}\n",
      "投资经理/总监（新材料方向）\n",
      "15-25k·12薪 宿迁 大专及以上 5年以上\n",
      "3小时前 投递后：7个工作日内反馈\n",
      "{'https://www.liepin.com/suqian/zhaopin/', 'https://www.liepin.com/job/1926822639.shtml'}\n",
      "投资经理/总监（新材料方向）\n",
      "15-25k·12薪 镇江 大专及以上 5年以上\n",
      "3小时前 投递后：7个工作日内反馈\n",
      "{'https://www.liepin.com/zhenjiang/zhaopin/', 'https://www.liepin.com/job/1926822637.shtml'}\n",
      "投资经理/总监（新材料方向）\n",
      "15-25k·12薪 常州 大专及以上 5年以上\n",
      "3小时前 投递后：7个工作日内反馈\n",
      "{'https://www.liepin.com/changzhou/zhaopin/', 'https://www.liepin.com/job/1926822635.shtml'}\n",
      "投资经理/总监（新材料方向）\n",
      "15-25k·12薪 徐州 大专及以上 5年以上\n",
      "3小时前 投递后：7个工作日内反馈\n",
      "{'https://www.liepin.com/xuzhou/zhaopin/', 'https://www.liepin.com/job/1926822633.shtml'}\n",
      "投资经理/总监（新材料方向）\n",
      "15-25k·12薪 合肥 大专及以上 5年以上\n",
      "3小时前 投递后：7个工作日内反馈\n",
      "{'https://www.liepin.com/job/1926822631.shtml', 'https://www.liepin.com/hefei/zhaopin/'}\n",
      "投资经理/总监（新材料方向）\n",
      "15-25k·12薪 无锡 大专及以上 5年以上\n",
      "3小时前 投递后：7个工作日内反馈\n",
      "{'https://www.liepin.com/job/1926822629.shtml', 'https://www.liepin.com/wuxi/zhaopin/'}\n",
      "投资经理/总监（新材料方向）\n",
      "15-25k·12薪 南京 大专及以上 5年以上\n",
      "3小时前 投递后：7个工作日内反馈\n",
      "{'https://www.liepin.com/job/1926822627.shtml', 'https://www.liepin.com/nj/zhaopin/'}\n",
      "投资经理/总监（新材料方向）\n",
      "15-25k·12薪 苏州 大专及以上 5年以上\n",
      "3小时前 投递后：7个工作日内反馈\n",
      "{'https://www.liepin.com/job/1926822625.shtml', 'https://www.liepin.com/suzhou/zhaopin/'}\n",
      "投资经理/总监（新材料方向）\n",
      "15-25k·12薪 上海 大专及以上 5年以上\n",
      "3小时前 投递后：7个工作日内反馈\n",
      "{'https://www.liepin.com/job/1926822623.shtml', 'https://www.liepin.com/sh/zhaopin/'}\n",
      "投资经理/总监（新材料方向）\n",
      "15-25k·12薪 杭州 大专及以上 5年以上\n",
      "3小时前 投递后：7个工作日内反馈\n",
      "{'https://www.liepin.com/hz/zhaopin/', 'https://www.liepin.com/job/1926822621.shtml'}\n",
      "投资者关系经理\n",
      "4-8k·12薪 荆门 硕士及以上 1年以上\n",
      "8小时前 投递后：7个工作日内反馈\n",
      "{'https://www.liepin.com/jingmen/zhaopin/', 'https://www.liepin.com/job/1926820959.shtml'}\n",
      "行业研究经理（投资方向）\n",
      "面议 广州 硕士及以上 1年以上\n",
      "6小时前 投递后：72小时反馈\n",
      "{'https://www.liepin.com/job/1926812547.shtml', 'https://www.liepin.com/gz/zhaopin/'}\n",
      "投资经理/总监\n",
      "15-25k·12薪 合肥 本科及以上 5年以上\n",
      "3小时前 投递后：7个工作日内反馈\n",
      "{'https://www.liepin.com/job/1926797719.shtml', 'https://www.liepin.com/hefei/zhaopin/'}\n",
      "投资经理/总监\n",
      "15-25k·12薪 无锡 本科及以上 5年以上\n",
      "3小时前 投递后：7个工作日内反馈\n",
      "{'https://www.liepin.com/wuxi/zhaopin/', 'https://www.liepin.com/job/1926797717.shtml'}\n",
      "投资经理/总监\n",
      "15-25k·12薪 南京 本科及以上 5年以上\n",
      "3小时前 投递后：7个工作日内反馈\n",
      "{'https://www.liepin.com/nj/zhaopin/', 'https://www.liepin.com/job/1926797715.shtml'}\n",
      "投资经理/总监\n",
      "15-25k·12薪 苏州 本科及以上 5年以上\n",
      "3小时前 投递后：7个工作日内反馈\n",
      "{'https://www.liepin.com/suzhou/zhaopin/', 'https://www.liepin.com/job/1926797713.shtml'}\n",
      "投资经理/总监\n",
      "15-25k·12薪 上海 本科及以上 5年以上\n",
      "3小时前 投递后：7个工作日内反馈\n",
      "{'https://www.liepin.com/sh/zhaopin/', 'https://www.liepin.com/job/1926797711.shtml'}\n",
      "投资经理/总监\n",
      "15-25k·12薪 杭州 本科及以上 5年以上\n",
      "3小时前 投递后：7个工作日内反馈\n",
      "{'https://www.liepin.com/hz/zhaopin/', 'https://www.liepin.com/job/1926797709.shtml'}\n"
     ]
    }
   ],
   "source": [
    "from requests_html import HTMLSession\n",
    "session = HTMLSession()\n",
    "\n",
    "r = session.get(\"https://www.liepin.com/zhaopin/?key=投资经理\")\n",
    "\n",
    "# 通过xpath找到工作标签\n",
    "news = r.html.find('.job-info')\n",
    "\n",
    "for new in news :\n",
    "    print(new.text)  # 获得工作标题\n",
    "    print(new.absolute_links)  # 获得工作链接 \n",
    "\n",
    " "
   ]
  },
  {
   "cell_type": "code",
   "execution_count": 3,
   "metadata": {
    "slideshow": {
     "slide_type": "fragment"
    }
   },
   "outputs": [
    {
     "data": {
      "text/html": [
       "<img src=\"https://httpstatusdogs.com/img/418.jpg\" alt=\"\">"
      ],
      "text/plain": [
       "<IPython.core.display.HTML object>"
      ]
     },
     "metadata": {},
     "output_type": "display_data"
    }
   ],
   "source": [
    "from IPython.core.display import display, HTML\n",
    "display(HTML('<img src=\"https://httpstatusdogs.com/img/418.jpg\" alt=\"\">'))"
   ]
  },
  {
   "cell_type": "markdown",
   "metadata": {
    "slideshow": {
     "slide_type": "slide"
    }
   },
   "source": [
    "####  展示图\n",
    "* Jupyter 可用的魔法之一 IPython 展示模块, HTML转码"
   ]
  },
  {
   "cell_type": "code",
   "execution_count": 4,
   "metadata": {
    "slideshow": {
     "slide_type": "fragment"
    }
   },
   "outputs": [
    {
     "data": {
      "text/markdown": [
       "![](https://httpstatusdogs.com/img/418.jpg)"
      ],
      "text/plain": [
       "<IPython.core.display.Markdown object>"
      ]
     },
     "metadata": {},
     "output_type": "display_data"
    }
   ],
   "source": [
    "from IPython.core.display import display, Markdown\n",
    "display(Markdown('![](https://httpstatusdogs.com/img/418.jpg)'))"
   ]
  },
  {
   "cell_type": "markdown",
   "metadata": {
    "slideshow": {
     "slide_type": "slide"
    }
   },
   "source": [
    "### 抓抓图片?\n",
    "[图片新闻_Bing](http://www.gov.cn/xinwen/tupian/index.htm)\n",
    "\n",
    "####  项目0.C 图片新闻"
   ]
  },
  {
   "cell_type": "code",
   "execution_count": 5,
   "metadata": {
    "slideshow": {
     "slide_type": "fragment"
    }
   },
   "outputs": [
    {
     "name": "stdout",
     "output_type": "stream",
     "text": [
      "data:image/png;base64,iVBORw0KGgoAAAANSUhEUgAAAAEAAAABCAQAAAC1HAwCAAAAC0lEQVR42mNgYAAAAAMAASsJTYQAAAAASUVORK5CYII=\n"
     ]
    },
    {
     "data": {
      "text/markdown": [
       "![](data:image/png;base64,iVBORw0KGgoAAAANSUhEUgAAAAEAAAABCAQAAAC1HAwCAAAAC0lEQVR42mNgYAAAAAMAASsJTYQAAAAASUVORK5CYII=)"
      ],
      "text/plain": [
       "<IPython.core.display.Markdown object>"
      ]
     },
     "metadata": {},
     "output_type": "display_data"
    },
    {
     "name": "stdout",
     "output_type": "stream",
     "text": [
      "https://tse1-mm.cn.bing.net/th/id/OET.2aa2a3766b5d4d2d9d9fed3d713f33eb?w=272&h=272&c=7&rs=1&o=5&pid=1.9\n"
     ]
    },
    {
     "data": {
      "text/markdown": [
       "![](https://tse1-mm.cn.bing.net/th/id/OET.2aa2a3766b5d4d2d9d9fed3d713f33eb?w=272&h=272&c=7&rs=1&o=5&pid=1.9)"
      ],
      "text/plain": [
       "<IPython.core.display.Markdown object>"
      ]
     },
     "metadata": {},
     "output_type": "display_data"
    },
    {
     "name": "stdout",
     "output_type": "stream",
     "text": [
      "https://tse1-mm.cn.bing.net/th/id/OET.3886c7bdd81240f3abe5f8f8cee4fa0e?w=272&h=135&c=7&rs=1&o=5&pid=1.9\n"
     ]
    },
    {
     "data": {
      "text/markdown": [
       "![](https://tse1-mm.cn.bing.net/th/id/OET.3886c7bdd81240f3abe5f8f8cee4fa0e?w=272&h=135&c=7&rs=1&o=5&pid=1.9)"
      ],
      "text/plain": [
       "<IPython.core.display.Markdown object>"
      ]
     },
     "metadata": {},
     "output_type": "display_data"
    },
    {
     "name": "stdout",
     "output_type": "stream",
     "text": [
      "https://tse1-mm.cn.bing.net/th/id/OET.9fcacf06eb3d40fd8569effcff00fe5e?w=272&h=135&c=7&rs=1&o=5&pid=1.9\n"
     ]
    },
    {
     "data": {
      "text/markdown": [
       "![](https://tse1-mm.cn.bing.net/th/id/OET.9fcacf06eb3d40fd8569effcff00fe5e?w=272&h=135&c=7&rs=1&o=5&pid=1.9)"
      ],
      "text/plain": [
       "<IPython.core.display.Markdown object>"
      ]
     },
     "metadata": {},
     "output_type": "display_data"
    },
    {
     "name": "stdout",
     "output_type": "stream",
     "text": [
      "https://tse1-mm.cn.bing.net/th/id/OET.ff4be71371bc4e77a530d8710d68b450?w=272&h=135&c=7&rs=1&o=5&pid=1.9\n"
     ]
    },
    {
     "data": {
      "text/markdown": [
       "![](https://tse1-mm.cn.bing.net/th/id/OET.ff4be71371bc4e77a530d8710d68b450?w=272&h=135&c=7&rs=1&o=5&pid=1.9)"
      ],
      "text/plain": [
       "<IPython.core.display.Markdown object>"
      ]
     },
     "metadata": {},
     "output_type": "display_data"
    },
    {
     "name": "stdout",
     "output_type": "stream",
     "text": [
      "https://tse1-mm.cn.bing.net/th/id/OET.4d9a5ae6f27547e7b4b5436509e443ed?w=272&h=135&c=7&rs=1&o=5&pid=1.9\n"
     ]
    },
    {
     "data": {
      "text/markdown": [
       "![](https://tse1-mm.cn.bing.net/th/id/OET.4d9a5ae6f27547e7b4b5436509e443ed?w=272&h=135&c=7&rs=1&o=5&pid=1.9)"
      ],
      "text/plain": [
       "<IPython.core.display.Markdown object>"
      ]
     },
     "metadata": {},
     "output_type": "display_data"
    },
    {
     "name": "stdout",
     "output_type": "stream",
     "text": [
      "https://tse1-mm.cn.bing.net/th/id/OET.b4631c5bfcfc46f8b435456813f6867d?w=272&h=135&c=7&rs=1&o=5&pid=1.9\n"
     ]
    },
    {
     "data": {
      "text/markdown": [
       "![](https://tse1-mm.cn.bing.net/th/id/OET.b4631c5bfcfc46f8b435456813f6867d?w=272&h=135&c=7&rs=1&o=5&pid=1.9)"
      ],
      "text/plain": [
       "<IPython.core.display.Markdown object>"
      ]
     },
     "metadata": {},
     "output_type": "display_data"
    },
    {
     "name": "stdout",
     "output_type": "stream",
     "text": [
      "https://tse1-mm.cn.bing.net/th/id/OET.27c986d8239a4d23875622c8e5791eda?w=272&h=135&c=7&rs=1&o=5&pid=1.9\n"
     ]
    },
    {
     "data": {
      "text/markdown": [
       "![](https://tse1-mm.cn.bing.net/th/id/OET.27c986d8239a4d23875622c8e5791eda?w=272&h=135&c=7&rs=1&o=5&pid=1.9)"
      ],
      "text/plain": [
       "<IPython.core.display.Markdown object>"
      ]
     },
     "metadata": {},
     "output_type": "display_data"
    },
    {
     "name": "stdout",
     "output_type": "stream",
     "text": [
      "https://tse1-mm.cn.bing.net/th/id/OET.53867c33c4b544bcb1d1816b0d999e4c?w=135&h=135&c=7&rs=1&o=5&pid=1.9\n"
     ]
    },
    {
     "data": {
      "text/markdown": [
       "![](https://tse1-mm.cn.bing.net/th/id/OET.53867c33c4b544bcb1d1816b0d999e4c?w=135&h=135&c=7&rs=1&o=5&pid=1.9)"
      ],
      "text/plain": [
       "<IPython.core.display.Markdown object>"
      ]
     },
     "metadata": {},
     "output_type": "display_data"
    },
    {
     "name": "stdout",
     "output_type": "stream",
     "text": [
      "https://tse1-mm.cn.bing.net/th/id/OET.366d0d10b68e4b839d1f4bba028ccd23?w=135&h=135&c=7&rs=1&o=5&pid=1.9\n"
     ]
    },
    {
     "data": {
      "text/markdown": [
       "![](https://tse1-mm.cn.bing.net/th/id/OET.366d0d10b68e4b839d1f4bba028ccd23?w=135&h=135&c=7&rs=1&o=5&pid=1.9)"
      ],
      "text/plain": [
       "<IPython.core.display.Markdown object>"
      ]
     },
     "metadata": {},
     "output_type": "display_data"
    },
    {
     "name": "stdout",
     "output_type": "stream",
     "text": [
      "https://tse1-mm.cn.bing.net/th/id/OET.020bc8604f2d4a188971fcb17aa8a905?w=135&h=135&c=7&rs=1&o=5&pid=1.9\n"
     ]
    },
    {
     "data": {
      "text/markdown": [
       "![](https://tse1-mm.cn.bing.net/th/id/OET.020bc8604f2d4a188971fcb17aa8a905?w=135&h=135&c=7&rs=1&o=5&pid=1.9)"
      ],
      "text/plain": [
       "<IPython.core.display.Markdown object>"
      ]
     },
     "metadata": {},
     "output_type": "display_data"
    },
    {
     "name": "stdout",
     "output_type": "stream",
     "text": [
      "https://tse1-mm.cn.bing.net/th/id/OET.9982eecb74f243d2a805c077d0466fb6?w=135&h=135&c=7&rs=1&o=5&pid=1.9\n"
     ]
    },
    {
     "data": {
      "text/markdown": [
       "![](https://tse1-mm.cn.bing.net/th/id/OET.9982eecb74f243d2a805c077d0466fb6?w=135&h=135&c=7&rs=1&o=5&pid=1.9)"
      ],
      "text/plain": [
       "<IPython.core.display.Markdown object>"
      ]
     },
     "metadata": {},
     "output_type": "display_data"
    },
    {
     "name": "stdout",
     "output_type": "stream",
     "text": [
      "https://tse1-mm.cn.bing.net/th/id/OET.ac947abd05814bb28329fdf32965e239?w=272&h=272&c=7&rs=1&o=5&pid=1.9\n"
     ]
    },
    {
     "data": {
      "text/markdown": [
       "![](https://tse1-mm.cn.bing.net/th/id/OET.ac947abd05814bb28329fdf32965e239?w=272&h=272&c=7&rs=1&o=5&pid=1.9)"
      ],
      "text/plain": [
       "<IPython.core.display.Markdown object>"
      ]
     },
     "metadata": {},
     "output_type": "display_data"
    },
    {
     "name": "stdout",
     "output_type": "stream",
     "text": [
      "https://tse1-mm.cn.bing.net/th/id/OET.d614e356ff3648ea8385bcd68546a74c?w=135&h=272&c=7&rs=1&o=5&pid=1.9\n"
     ]
    },
    {
     "data": {
      "text/markdown": [
       "![](https://tse1-mm.cn.bing.net/th/id/OET.d614e356ff3648ea8385bcd68546a74c?w=135&h=272&c=7&rs=1&o=5&pid=1.9)"
      ],
      "text/plain": [
       "<IPython.core.display.Markdown object>"
      ]
     },
     "metadata": {},
     "output_type": "display_data"
    },
    {
     "name": "stdout",
     "output_type": "stream",
     "text": [
      "https://tse1-mm.cn.bing.net/th/id/OET.e25f83524d9f4a868bdbdf1919dec3c0?w=135&h=272&c=7&rs=1&o=5&pid=1.9\n"
     ]
    },
    {
     "data": {
      "text/markdown": [
       "![](https://tse1-mm.cn.bing.net/th/id/OET.e25f83524d9f4a868bdbdf1919dec3c0?w=135&h=272&c=7&rs=1&o=5&pid=1.9)"
      ],
      "text/plain": [
       "<IPython.core.display.Markdown object>"
      ]
     },
     "metadata": {},
     "output_type": "display_data"
    },
    {
     "name": "stdout",
     "output_type": "stream",
     "text": [
      "https://tse1-mm.cn.bing.net/th/id/OET.938d4544da29427fa7278cb7c7351fb6?w=135&h=272&c=7&rs=1&o=5&pid=1.9\n"
     ]
    },
    {
     "data": {
      "text/markdown": [
       "![](https://tse1-mm.cn.bing.net/th/id/OET.938d4544da29427fa7278cb7c7351fb6?w=135&h=272&c=7&rs=1&o=5&pid=1.9)"
      ],
      "text/plain": [
       "<IPython.core.display.Markdown object>"
      ]
     },
     "metadata": {},
     "output_type": "display_data"
    },
    {
     "name": "stdout",
     "output_type": "stream",
     "text": [
      "https://tse1-mm.cn.bing.net/th/id/OET.609002688afe4145900fcf56bfc1728d?w=135&h=272&c=7&rs=1&o=5&pid=1.9\n"
     ]
    },
    {
     "data": {
      "text/markdown": [
       "![](https://tse1-mm.cn.bing.net/th/id/OET.609002688afe4145900fcf56bfc1728d?w=135&h=272&c=7&rs=1&o=5&pid=1.9)"
      ],
      "text/plain": [
       "<IPython.core.display.Markdown object>"
      ]
     },
     "metadata": {},
     "output_type": "display_data"
    },
    {
     "name": "stdout",
     "output_type": "stream",
     "text": [
      "https://tse1-mm.cn.bing.net/th/id/OET.3b155f97226d4ce3b8019ca75c37785c?w=135&h=272&c=7&rs=1&o=5&pid=1.9\n"
     ]
    },
    {
     "data": {
      "text/markdown": [
       "![](https://tse1-mm.cn.bing.net/th/id/OET.3b155f97226d4ce3b8019ca75c37785c?w=135&h=272&c=7&rs=1&o=5&pid=1.9)"
      ],
      "text/plain": [
       "<IPython.core.display.Markdown object>"
      ]
     },
     "metadata": {},
     "output_type": "display_data"
    },
    {
     "name": "stdout",
     "output_type": "stream",
     "text": [
      "https://tse1-mm.cn.bing.net/th/id/OET.fc7d18af572249f4815210592b083015?w=135&h=272&c=7&rs=1&o=5&pid=1.9\n"
     ]
    },
    {
     "data": {
      "text/markdown": [
       "![](https://tse1-mm.cn.bing.net/th/id/OET.fc7d18af572249f4815210592b083015?w=135&h=272&c=7&rs=1&o=5&pid=1.9)"
      ],
      "text/plain": [
       "<IPython.core.display.Markdown object>"
      ]
     },
     "metadata": {},
     "output_type": "display_data"
    },
    {
     "name": "stdout",
     "output_type": "stream",
     "text": [
      "https://tse1-mm.cn.bing.net/th/id/OET.dc7d64a2cf314b4cbaa1d8b9314734f7?w=135&h=135&c=7&rs=1&o=5&pid=1.9\n"
     ]
    },
    {
     "data": {
      "text/markdown": [
       "![](https://tse1-mm.cn.bing.net/th/id/OET.dc7d64a2cf314b4cbaa1d8b9314734f7?w=135&h=135&c=7&rs=1&o=5&pid=1.9)"
      ],
      "text/plain": [
       "<IPython.core.display.Markdown object>"
      ]
     },
     "metadata": {},
     "output_type": "display_data"
    },
    {
     "name": "stdout",
     "output_type": "stream",
     "text": [
      "https://tse1-mm.cn.bing.net/th/id/OET.f8cd4861bc504029a90ccc272bbc954d?w=135&h=135&c=7&rs=1&o=5&pid=1.9\n"
     ]
    },
    {
     "data": {
      "text/markdown": [
       "![](https://tse1-mm.cn.bing.net/th/id/OET.f8cd4861bc504029a90ccc272bbc954d?w=135&h=135&c=7&rs=1&o=5&pid=1.9)"
      ],
      "text/plain": [
       "<IPython.core.display.Markdown object>"
      ]
     },
     "metadata": {},
     "output_type": "display_data"
    },
    {
     "name": "stdout",
     "output_type": "stream",
     "text": [
      "https://tse1-mm.cn.bing.net/th/id/OET.5ca4829fee72427b8424d6aead35163a?w=135&h=135&c=7&rs=1&o=5&pid=1.9\n"
     ]
    },
    {
     "data": {
      "text/markdown": [
       "![](https://tse1-mm.cn.bing.net/th/id/OET.5ca4829fee72427b8424d6aead35163a?w=135&h=135&c=7&rs=1&o=5&pid=1.9)"
      ],
      "text/plain": [
       "<IPython.core.display.Markdown object>"
      ]
     },
     "metadata": {},
     "output_type": "display_data"
    },
    {
     "name": "stdout",
     "output_type": "stream",
     "text": [
      "https://tse1-mm.cn.bing.net/th/id/OET.f27e5b857f524c648726b803a44837a4?w=135&h=135&c=7&rs=1&o=5&pid=1.9\n"
     ]
    },
    {
     "data": {
      "text/markdown": [
       "![](https://tse1-mm.cn.bing.net/th/id/OET.f27e5b857f524c648726b803a44837a4?w=135&h=135&c=7&rs=1&o=5&pid=1.9)"
      ],
      "text/plain": [
       "<IPython.core.display.Markdown object>"
      ]
     },
     "metadata": {},
     "output_type": "display_data"
    },
    {
     "name": "stdout",
     "output_type": "stream",
     "text": [
      "https://tse1-mm.cn.bing.net/th/id/OET.d76a305be6db4c9e84c89ea26290b38a?w=272&h=272&c=7&rs=1&o=5&pid=1.9\n"
     ]
    },
    {
     "data": {
      "text/markdown": [
       "![](https://tse1-mm.cn.bing.net/th/id/OET.d76a305be6db4c9e84c89ea26290b38a?w=272&h=272&c=7&rs=1&o=5&pid=1.9)"
      ],
      "text/plain": [
       "<IPython.core.display.Markdown object>"
      ]
     },
     "metadata": {},
     "output_type": "display_data"
    },
    {
     "name": "stdout",
     "output_type": "stream",
     "text": [
      "https://tse1-mm.cn.bing.net/th/id/OET.18da11981db140b88154ab5771455563?w=135&h=272&c=7&rs=1&o=5&pid=1.9\n"
     ]
    },
    {
     "data": {
      "text/markdown": [
       "![](https://tse1-mm.cn.bing.net/th/id/OET.18da11981db140b88154ab5771455563?w=135&h=272&c=7&rs=1&o=5&pid=1.9)"
      ],
      "text/plain": [
       "<IPython.core.display.Markdown object>"
      ]
     },
     "metadata": {},
     "output_type": "display_data"
    },
    {
     "name": "stdout",
     "output_type": "stream",
     "text": [
      "https://tse1-mm.cn.bing.net/th/id/OET.f630c2fbb82147b98b1de22b73918a80?w=135&h=272&c=7&rs=1&o=5&pid=1.9\n"
     ]
    },
    {
     "data": {
      "text/markdown": [
       "![](https://tse1-mm.cn.bing.net/th/id/OET.f630c2fbb82147b98b1de22b73918a80?w=135&h=272&c=7&rs=1&o=5&pid=1.9)"
      ],
      "text/plain": [
       "<IPython.core.display.Markdown object>"
      ]
     },
     "metadata": {},
     "output_type": "display_data"
    },
    {
     "name": "stdout",
     "output_type": "stream",
     "text": [
      "https://tse1-mm.cn.bing.net/th/id/OET.8e621908c31741a0a92f5476c346b6a1?w=135&h=272&c=7&rs=1&o=5&pid=1.9\n"
     ]
    },
    {
     "data": {
      "text/markdown": [
       "![](https://tse1-mm.cn.bing.net/th/id/OET.8e621908c31741a0a92f5476c346b6a1?w=135&h=272&c=7&rs=1&o=5&pid=1.9)"
      ],
      "text/plain": [
       "<IPython.core.display.Markdown object>"
      ]
     },
     "metadata": {},
     "output_type": "display_data"
    },
    {
     "name": "stdout",
     "output_type": "stream",
     "text": [
      "https://tse1-mm.cn.bing.net/th/id/OET.ff87a75f1a114173b0612dbc4e1f8686?w=135&h=272&c=7&rs=1&o=5&pid=1.9\n"
     ]
    },
    {
     "data": {
      "text/markdown": [
       "![](https://tse1-mm.cn.bing.net/th/id/OET.ff87a75f1a114173b0612dbc4e1f8686?w=135&h=272&c=7&rs=1&o=5&pid=1.9)"
      ],
      "text/plain": [
       "<IPython.core.display.Markdown object>"
      ]
     },
     "metadata": {},
     "output_type": "display_data"
    },
    {
     "name": "stdout",
     "output_type": "stream",
     "text": [
      "https://tse1-mm.cn.bing.net/th/id/OET.641eeea17d2a4973b53e3c83b750772a?w=135&h=272&c=7&rs=1&o=5&pid=1.9\n"
     ]
    },
    {
     "data": {
      "text/markdown": [
       "![](https://tse1-mm.cn.bing.net/th/id/OET.641eeea17d2a4973b53e3c83b750772a?w=135&h=272&c=7&rs=1&o=5&pid=1.9)"
      ],
      "text/plain": [
       "<IPython.core.display.Markdown object>"
      ]
     },
     "metadata": {},
     "output_type": "display_data"
    },
    {
     "name": "stdout",
     "output_type": "stream",
     "text": [
      "https://tse1-mm.cn.bing.net/th/id/OET.5435c90c0a8b4deab3971d04a029a8c4?w=135&h=272&c=7&rs=1&o=5&pid=1.9\n"
     ]
    },
    {
     "data": {
      "text/markdown": [
       "![](https://tse1-mm.cn.bing.net/th/id/OET.5435c90c0a8b4deab3971d04a029a8c4?w=135&h=272&c=7&rs=1&o=5&pid=1.9)"
      ],
      "text/plain": [
       "<IPython.core.display.Markdown object>"
      ]
     },
     "metadata": {},
     "output_type": "display_data"
    },
    {
     "name": "stdout",
     "output_type": "stream",
     "text": [
      "https://tse1-mm.cn.bing.net/th/id/OET.d69bc419d1714d3a8dbde7cb56a21d3a?w=135&h=135&c=7&rs=1&o=5&pid=1.9\n"
     ]
    },
    {
     "data": {
      "text/markdown": [
       "![](https://tse1-mm.cn.bing.net/th/id/OET.d69bc419d1714d3a8dbde7cb56a21d3a?w=135&h=135&c=7&rs=1&o=5&pid=1.9)"
      ],
      "text/plain": [
       "<IPython.core.display.Markdown object>"
      ]
     },
     "metadata": {},
     "output_type": "display_data"
    },
    {
     "name": "stdout",
     "output_type": "stream",
     "text": [
      "https://tse1-mm.cn.bing.net/th/id/OET.509714ed371341c2ae7538b1645a14c7?w=135&h=135&c=7&rs=1&o=5&pid=1.9\n"
     ]
    },
    {
     "data": {
      "text/markdown": [
       "![](https://tse1-mm.cn.bing.net/th/id/OET.509714ed371341c2ae7538b1645a14c7?w=135&h=135&c=7&rs=1&o=5&pid=1.9)"
      ],
      "text/plain": [
       "<IPython.core.display.Markdown object>"
      ]
     },
     "metadata": {},
     "output_type": "display_data"
    },
    {
     "name": "stdout",
     "output_type": "stream",
     "text": [
      "https://tse1-mm.cn.bing.net/th/id/OET.fa414e4eb8aa4969b1e7160c78811e1a?w=135&h=135&c=7&rs=1&o=5&pid=1.9\n"
     ]
    },
    {
     "data": {
      "text/markdown": [
       "![](https://tse1-mm.cn.bing.net/th/id/OET.fa414e4eb8aa4969b1e7160c78811e1a?w=135&h=135&c=7&rs=1&o=5&pid=1.9)"
      ],
      "text/plain": [
       "<IPython.core.display.Markdown object>"
      ]
     },
     "metadata": {},
     "output_type": "display_data"
    },
    {
     "name": "stdout",
     "output_type": "stream",
     "text": [
      "https://tse1-mm.cn.bing.net/th/id/OET.68a825be6b82468e87d594ca5cea921d?w=135&h=135&c=7&rs=1&o=5&pid=1.9\n"
     ]
    },
    {
     "data": {
      "text/markdown": [
       "![](https://tse1-mm.cn.bing.net/th/id/OET.68a825be6b82468e87d594ca5cea921d?w=135&h=135&c=7&rs=1&o=5&pid=1.9)"
      ],
      "text/plain": [
       "<IPython.core.display.Markdown object>"
      ]
     },
     "metadata": {},
     "output_type": "display_data"
    },
    {
     "name": "stdout",
     "output_type": "stream",
     "text": [
      "https://tse1-mm.cn.bing.net/th/id/OET.6570bfa2065f4f2c8074b99429c29e74?w=272&h=272&c=7&rs=1&o=5&pid=1.9\n"
     ]
    },
    {
     "data": {
      "text/markdown": [
       "![](https://tse1-mm.cn.bing.net/th/id/OET.6570bfa2065f4f2c8074b99429c29e74?w=272&h=272&c=7&rs=1&o=5&pid=1.9)"
      ],
      "text/plain": [
       "<IPython.core.display.Markdown object>"
      ]
     },
     "metadata": {},
     "output_type": "display_data"
    },
    {
     "name": "stdout",
     "output_type": "stream",
     "text": [
      "https://tse1-mm.cn.bing.net/th/id/OET.548058d6281c4ffa9d571f839910f32a?w=272&h=135&c=7&rs=1&o=5&pid=1.9\n"
     ]
    },
    {
     "data": {
      "text/markdown": [
       "![](https://tse1-mm.cn.bing.net/th/id/OET.548058d6281c4ffa9d571f839910f32a?w=272&h=135&c=7&rs=1&o=5&pid=1.9)"
      ],
      "text/plain": [
       "<IPython.core.display.Markdown object>"
      ]
     },
     "metadata": {},
     "output_type": "display_data"
    },
    {
     "name": "stdout",
     "output_type": "stream",
     "text": [
      "https://tse1-mm.cn.bing.net/th/id/OET.80281b69d95b48bc8a466fcdffad5173?w=272&h=135&c=7&rs=1&o=5&pid=1.9\n"
     ]
    },
    {
     "data": {
      "text/markdown": [
       "![](https://tse1-mm.cn.bing.net/th/id/OET.80281b69d95b48bc8a466fcdffad5173?w=272&h=135&c=7&rs=1&o=5&pid=1.9)"
      ],
      "text/plain": [
       "<IPython.core.display.Markdown object>"
      ]
     },
     "metadata": {},
     "output_type": "display_data"
    },
    {
     "name": "stdout",
     "output_type": "stream",
     "text": [
      "https://tse1-mm.cn.bing.net/th/id/OET.1eadcb1402d74bb295fff97db1bf6600?w=272&h=135&c=7&rs=1&o=5&pid=1.9\n"
     ]
    },
    {
     "data": {
      "text/markdown": [
       "![](https://tse1-mm.cn.bing.net/th/id/OET.1eadcb1402d74bb295fff97db1bf6600?w=272&h=135&c=7&rs=1&o=5&pid=1.9)"
      ],
      "text/plain": [
       "<IPython.core.display.Markdown object>"
      ]
     },
     "metadata": {},
     "output_type": "display_data"
    },
    {
     "name": "stdout",
     "output_type": "stream",
     "text": [
      "https://tse1-mm.cn.bing.net/th/id/OET.de53e76d3f3d4a479eb8739b74f81440?w=272&h=135&c=7&rs=1&o=5&pid=1.9\n"
     ]
    },
    {
     "data": {
      "text/markdown": [
       "![](https://tse1-mm.cn.bing.net/th/id/OET.de53e76d3f3d4a479eb8739b74f81440?w=272&h=135&c=7&rs=1&o=5&pid=1.9)"
      ],
      "text/plain": [
       "<IPython.core.display.Markdown object>"
      ]
     },
     "metadata": {},
     "output_type": "display_data"
    },
    {
     "name": "stdout",
     "output_type": "stream",
     "text": [
      "https://tse1-mm.cn.bing.net/th/id/OET.e19d34f3918d4fa982966ba08fd4c07d?w=272&h=135&c=7&rs=1&o=5&pid=1.9\n"
     ]
    },
    {
     "data": {
      "text/markdown": [
       "![](https://tse1-mm.cn.bing.net/th/id/OET.e19d34f3918d4fa982966ba08fd4c07d?w=272&h=135&c=7&rs=1&o=5&pid=1.9)"
      ],
      "text/plain": [
       "<IPython.core.display.Markdown object>"
      ]
     },
     "metadata": {},
     "output_type": "display_data"
    },
    {
     "name": "stdout",
     "output_type": "stream",
     "text": [
      "https://tse1-mm.cn.bing.net/th/id/OET.0a8ed06811b549b48a1917ad0ec2e055?w=272&h=135&c=7&rs=1&o=5&pid=1.9\n"
     ]
    },
    {
     "data": {
      "text/markdown": [
       "![](https://tse1-mm.cn.bing.net/th/id/OET.0a8ed06811b549b48a1917ad0ec2e055?w=272&h=135&c=7&rs=1&o=5&pid=1.9)"
      ],
      "text/plain": [
       "<IPython.core.display.Markdown object>"
      ]
     },
     "metadata": {},
     "output_type": "display_data"
    },
    {
     "name": "stdout",
     "output_type": "stream",
     "text": [
      "https://tse1-mm.cn.bing.net/th/id/OET.4ef5bf6f0ae1423abe844d8242f55a80?w=135&h=135&c=7&rs=1&o=5&pid=1.9\n"
     ]
    },
    {
     "data": {
      "text/markdown": [
       "![](https://tse1-mm.cn.bing.net/th/id/OET.4ef5bf6f0ae1423abe844d8242f55a80?w=135&h=135&c=7&rs=1&o=5&pid=1.9)"
      ],
      "text/plain": [
       "<IPython.core.display.Markdown object>"
      ]
     },
     "metadata": {},
     "output_type": "display_data"
    },
    {
     "name": "stdout",
     "output_type": "stream",
     "text": [
      "https://tse1-mm.cn.bing.net/th/id/OET.3c15354dfdd047ab93fe96f196ad07cb?w=135&h=135&c=7&rs=1&o=5&pid=1.9\n"
     ]
    },
    {
     "data": {
      "text/markdown": [
       "![](https://tse1-mm.cn.bing.net/th/id/OET.3c15354dfdd047ab93fe96f196ad07cb?w=135&h=135&c=7&rs=1&o=5&pid=1.9)"
      ],
      "text/plain": [
       "<IPython.core.display.Markdown object>"
      ]
     },
     "metadata": {},
     "output_type": "display_data"
    },
    {
     "name": "stdout",
     "output_type": "stream",
     "text": [
      "https://tse1-mm.cn.bing.net/th/id/OET.014e47747fd744729136663e06d30322?w=135&h=135&c=7&rs=1&o=5&pid=1.9\n"
     ]
    },
    {
     "data": {
      "text/markdown": [
       "![](https://tse1-mm.cn.bing.net/th/id/OET.014e47747fd744729136663e06d30322?w=135&h=135&c=7&rs=1&o=5&pid=1.9)"
      ],
      "text/plain": [
       "<IPython.core.display.Markdown object>"
      ]
     },
     "metadata": {},
     "output_type": "display_data"
    },
    {
     "name": "stdout",
     "output_type": "stream",
     "text": [
      "https://tse1-mm.cn.bing.net/th/id/OET.311ab2c108ce49efb855fed17cae87f8?w=135&h=135&c=7&rs=1&o=5&pid=1.9\n"
     ]
    },
    {
     "data": {
      "text/markdown": [
       "![](https://tse1-mm.cn.bing.net/th/id/OET.311ab2c108ce49efb855fed17cae87f8?w=135&h=135&c=7&rs=1&o=5&pid=1.9)"
      ],
      "text/plain": [
       "<IPython.core.display.Markdown object>"
      ]
     },
     "metadata": {},
     "output_type": "display_data"
    },
    {
     "name": "stdout",
     "output_type": "stream",
     "text": [
      "https://tse1-mm.cn.bing.net/th/id/OET.13be13dfa85948e49ee8fbc70403d6c5?w=272&h=272&c=7&rs=1&o=5&pid=1.9\n"
     ]
    },
    {
     "data": {
      "text/markdown": [
       "![](https://tse1-mm.cn.bing.net/th/id/OET.13be13dfa85948e49ee8fbc70403d6c5?w=272&h=272&c=7&rs=1&o=5&pid=1.9)"
      ],
      "text/plain": [
       "<IPython.core.display.Markdown object>"
      ]
     },
     "metadata": {},
     "output_type": "display_data"
    },
    {
     "name": "stdout",
     "output_type": "stream",
     "text": [
      "https://tse1-mm.cn.bing.net/th/id/OET.c278f8963dfe49ff9d896dac6cd4db70?w=272&h=135&c=7&rs=1&o=5&pid=1.9\n"
     ]
    },
    {
     "data": {
      "text/markdown": [
       "![](https://tse1-mm.cn.bing.net/th/id/OET.c278f8963dfe49ff9d896dac6cd4db70?w=272&h=135&c=7&rs=1&o=5&pid=1.9)"
      ],
      "text/plain": [
       "<IPython.core.display.Markdown object>"
      ]
     },
     "metadata": {},
     "output_type": "display_data"
    },
    {
     "name": "stdout",
     "output_type": "stream",
     "text": [
      "https://tse1-mm.cn.bing.net/th/id/OET.e662e33e5f61405ea35606f21bebd306?w=272&h=135&c=7&rs=1&o=5&pid=1.9\n"
     ]
    },
    {
     "data": {
      "text/markdown": [
       "![](https://tse1-mm.cn.bing.net/th/id/OET.e662e33e5f61405ea35606f21bebd306?w=272&h=135&c=7&rs=1&o=5&pid=1.9)"
      ],
      "text/plain": [
       "<IPython.core.display.Markdown object>"
      ]
     },
     "metadata": {},
     "output_type": "display_data"
    },
    {
     "name": "stdout",
     "output_type": "stream",
     "text": [
      "https://tse1-mm.cn.bing.net/th/id/OET.28fd0f0ab6344e5cb21400966cb1bd4d?w=272&h=135&c=7&rs=1&o=5&pid=1.9\n"
     ]
    },
    {
     "data": {
      "text/markdown": [
       "![](https://tse1-mm.cn.bing.net/th/id/OET.28fd0f0ab6344e5cb21400966cb1bd4d?w=272&h=135&c=7&rs=1&o=5&pid=1.9)"
      ],
      "text/plain": [
       "<IPython.core.display.Markdown object>"
      ]
     },
     "metadata": {},
     "output_type": "display_data"
    },
    {
     "name": "stdout",
     "output_type": "stream",
     "text": [
      "https://tse1-mm.cn.bing.net/th/id/OET.925b40d875fa4de792eafca813066152?w=272&h=135&c=7&rs=1&o=5&pid=1.9\n"
     ]
    },
    {
     "data": {
      "text/markdown": [
       "![](https://tse1-mm.cn.bing.net/th/id/OET.925b40d875fa4de792eafca813066152?w=272&h=135&c=7&rs=1&o=5&pid=1.9)"
      ],
      "text/plain": [
       "<IPython.core.display.Markdown object>"
      ]
     },
     "metadata": {},
     "output_type": "display_data"
    },
    {
     "name": "stdout",
     "output_type": "stream",
     "text": [
      "https://tse1-mm.cn.bing.net/th/id/OET.52f4abd4696b4130953af7affa14f8a8?w=272&h=135&c=7&rs=1&o=5&pid=1.9\n"
     ]
    },
    {
     "data": {
      "text/markdown": [
       "![](https://tse1-mm.cn.bing.net/th/id/OET.52f4abd4696b4130953af7affa14f8a8?w=272&h=135&c=7&rs=1&o=5&pid=1.9)"
      ],
      "text/plain": [
       "<IPython.core.display.Markdown object>"
      ]
     },
     "metadata": {},
     "output_type": "display_data"
    },
    {
     "name": "stdout",
     "output_type": "stream",
     "text": [
      "https://tse1-mm.cn.bing.net/th/id/OET.e709992723d94bfcbdea2455d661def0?w=272&h=135&c=7&rs=1&o=5&pid=1.9\n"
     ]
    },
    {
     "data": {
      "text/markdown": [
       "![](https://tse1-mm.cn.bing.net/th/id/OET.e709992723d94bfcbdea2455d661def0?w=272&h=135&c=7&rs=1&o=5&pid=1.9)"
      ],
      "text/plain": [
       "<IPython.core.display.Markdown object>"
      ]
     },
     "metadata": {},
     "output_type": "display_data"
    },
    {
     "name": "stdout",
     "output_type": "stream",
     "text": [
      "https://tse1-mm.cn.bing.net/th/id/OET.8f8f61c7a67944758e1e85de7c4cfabf?w=135&h=135&c=7&rs=1&o=5&pid=1.9\n"
     ]
    },
    {
     "data": {
      "text/markdown": [
       "![](https://tse1-mm.cn.bing.net/th/id/OET.8f8f61c7a67944758e1e85de7c4cfabf?w=135&h=135&c=7&rs=1&o=5&pid=1.9)"
      ],
      "text/plain": [
       "<IPython.core.display.Markdown object>"
      ]
     },
     "metadata": {},
     "output_type": "display_data"
    },
    {
     "name": "stdout",
     "output_type": "stream",
     "text": [
      "https://tse1-mm.cn.bing.net/th/id/OET.d8fd1f230e9e49e397515b081766c2e2?w=135&h=135&c=7&rs=1&o=5&pid=1.9\n"
     ]
    },
    {
     "data": {
      "text/markdown": [
       "![](https://tse1-mm.cn.bing.net/th/id/OET.d8fd1f230e9e49e397515b081766c2e2?w=135&h=135&c=7&rs=1&o=5&pid=1.9)"
      ],
      "text/plain": [
       "<IPython.core.display.Markdown object>"
      ]
     },
     "metadata": {},
     "output_type": "display_data"
    },
    {
     "name": "stdout",
     "output_type": "stream",
     "text": [
      "https://tse1-mm.cn.bing.net/th/id/OET.bc987d4922c64b6a8c448cc6b2cb99c1?w=135&h=135&c=7&rs=1&o=5&pid=1.9\n"
     ]
    },
    {
     "data": {
      "text/markdown": [
       "![](https://tse1-mm.cn.bing.net/th/id/OET.bc987d4922c64b6a8c448cc6b2cb99c1?w=135&h=135&c=7&rs=1&o=5&pid=1.9)"
      ],
      "text/plain": [
       "<IPython.core.display.Markdown object>"
      ]
     },
     "metadata": {},
     "output_type": "display_data"
    },
    {
     "name": "stdout",
     "output_type": "stream",
     "text": [
      "https://tse1-mm.cn.bing.net/th/id/OET.a878a7ad236549fe89ec1eb1b1bffd0b?w=135&h=135&c=7&rs=1&o=5&pid=1.9\n"
     ]
    },
    {
     "data": {
      "text/markdown": [
       "![](https://tse1-mm.cn.bing.net/th/id/OET.a878a7ad236549fe89ec1eb1b1bffd0b?w=135&h=135&c=7&rs=1&o=5&pid=1.9)"
      ],
      "text/plain": [
       "<IPython.core.display.Markdown object>"
      ]
     },
     "metadata": {},
     "output_type": "display_data"
    },
    {
     "name": "stdout",
     "output_type": "stream",
     "text": [
      "https://tse1-mm.cn.bing.net/th/id/OET.e467266179b6400296e48a979d03e696?w=272&h=272&c=7&rs=1&o=5&pid=1.9\n"
     ]
    },
    {
     "data": {
      "text/markdown": [
       "![](https://tse1-mm.cn.bing.net/th/id/OET.e467266179b6400296e48a979d03e696?w=272&h=272&c=7&rs=1&o=5&pid=1.9)"
      ],
      "text/plain": [
       "<IPython.core.display.Markdown object>"
      ]
     },
     "metadata": {},
     "output_type": "display_data"
    },
    {
     "name": "stdout",
     "output_type": "stream",
     "text": [
      "https://tse1-mm.cn.bing.net/th/id/OET.9c8f4475433546bb9524895b1634db32?w=272&h=135&c=7&rs=1&o=5&pid=1.9\n"
     ]
    },
    {
     "data": {
      "text/markdown": [
       "![](https://tse1-mm.cn.bing.net/th/id/OET.9c8f4475433546bb9524895b1634db32?w=272&h=135&c=7&rs=1&o=5&pid=1.9)"
      ],
      "text/plain": [
       "<IPython.core.display.Markdown object>"
      ]
     },
     "metadata": {},
     "output_type": "display_data"
    },
    {
     "name": "stdout",
     "output_type": "stream",
     "text": [
      "https://tse1-mm.cn.bing.net/th/id/OET.b910d62ca7224b48b799485ff633fbe9?w=272&h=135&c=7&rs=1&o=5&pid=1.9\n"
     ]
    },
    {
     "data": {
      "text/markdown": [
       "![](https://tse1-mm.cn.bing.net/th/id/OET.b910d62ca7224b48b799485ff633fbe9?w=272&h=135&c=7&rs=1&o=5&pid=1.9)"
      ],
      "text/plain": [
       "<IPython.core.display.Markdown object>"
      ]
     },
     "metadata": {},
     "output_type": "display_data"
    },
    {
     "name": "stdout",
     "output_type": "stream",
     "text": [
      "https://tse1-mm.cn.bing.net/th/id/OET.d88228c37ad848e4975c4725cdb24983?w=272&h=135&c=7&rs=1&o=5&pid=1.9\n"
     ]
    },
    {
     "data": {
      "text/markdown": [
       "![](https://tse1-mm.cn.bing.net/th/id/OET.d88228c37ad848e4975c4725cdb24983?w=272&h=135&c=7&rs=1&o=5&pid=1.9)"
      ],
      "text/plain": [
       "<IPython.core.display.Markdown object>"
      ]
     },
     "metadata": {},
     "output_type": "display_data"
    },
    {
     "name": "stdout",
     "output_type": "stream",
     "text": [
      "https://tse1-mm.cn.bing.net/th/id/OET.c0beeb3881cc4f7fa28f0487ec2da039?w=272&h=135&c=7&rs=1&o=5&pid=1.9\n"
     ]
    },
    {
     "data": {
      "text/markdown": [
       "![](https://tse1-mm.cn.bing.net/th/id/OET.c0beeb3881cc4f7fa28f0487ec2da039?w=272&h=135&c=7&rs=1&o=5&pid=1.9)"
      ],
      "text/plain": [
       "<IPython.core.display.Markdown object>"
      ]
     },
     "metadata": {},
     "output_type": "display_data"
    },
    {
     "name": "stdout",
     "output_type": "stream",
     "text": [
      "https://tse1-mm.cn.bing.net/th/id/OET.45d8eb27b73b43719df3ea23568cc299?w=272&h=135&c=7&rs=1&o=5&pid=1.9\n"
     ]
    },
    {
     "data": {
      "text/markdown": [
       "![](https://tse1-mm.cn.bing.net/th/id/OET.45d8eb27b73b43719df3ea23568cc299?w=272&h=135&c=7&rs=1&o=5&pid=1.9)"
      ],
      "text/plain": [
       "<IPython.core.display.Markdown object>"
      ]
     },
     "metadata": {},
     "output_type": "display_data"
    },
    {
     "name": "stdout",
     "output_type": "stream",
     "text": [
      "https://tse1-mm.cn.bing.net/th/id/OET.7ce6dc322d2d4ff0970c36b17fcf363c?w=272&h=135&c=7&rs=1&o=5&pid=1.9\n"
     ]
    },
    {
     "data": {
      "text/markdown": [
       "![](https://tse1-mm.cn.bing.net/th/id/OET.7ce6dc322d2d4ff0970c36b17fcf363c?w=272&h=135&c=7&rs=1&o=5&pid=1.9)"
      ],
      "text/plain": [
       "<IPython.core.display.Markdown object>"
      ]
     },
     "metadata": {},
     "output_type": "display_data"
    },
    {
     "name": "stdout",
     "output_type": "stream",
     "text": [
      "https://tse1-mm.cn.bing.net/th/id/OET.ecf975724f74437aa9f9ad1463df0cb0?w=135&h=135&c=7&rs=1&o=5&pid=1.9\n"
     ]
    },
    {
     "data": {
      "text/markdown": [
       "![](https://tse1-mm.cn.bing.net/th/id/OET.ecf975724f74437aa9f9ad1463df0cb0?w=135&h=135&c=7&rs=1&o=5&pid=1.9)"
      ],
      "text/plain": [
       "<IPython.core.display.Markdown object>"
      ]
     },
     "metadata": {},
     "output_type": "display_data"
    },
    {
     "name": "stdout",
     "output_type": "stream",
     "text": [
      "https://tse1-mm.cn.bing.net/th/id/OET.28852aa91ef54138a6945ef6f0954986?w=135&h=135&c=7&rs=1&o=5&pid=1.9\n"
     ]
    },
    {
     "data": {
      "text/markdown": [
       "![](https://tse1-mm.cn.bing.net/th/id/OET.28852aa91ef54138a6945ef6f0954986?w=135&h=135&c=7&rs=1&o=5&pid=1.9)"
      ],
      "text/plain": [
       "<IPython.core.display.Markdown object>"
      ]
     },
     "metadata": {},
     "output_type": "display_data"
    },
    {
     "name": "stdout",
     "output_type": "stream",
     "text": [
      "https://tse1-mm.cn.bing.net/th/id/OET.736ec8974a93411487f3231eec4923bb?w=135&h=135&c=7&rs=1&o=5&pid=1.9\n"
     ]
    },
    {
     "data": {
      "text/markdown": [
       "![](https://tse1-mm.cn.bing.net/th/id/OET.736ec8974a93411487f3231eec4923bb?w=135&h=135&c=7&rs=1&o=5&pid=1.9)"
      ],
      "text/plain": [
       "<IPython.core.display.Markdown object>"
      ]
     },
     "metadata": {},
     "output_type": "display_data"
    },
    {
     "name": "stdout",
     "output_type": "stream",
     "text": [
      "https://tse1-mm.cn.bing.net/th/id/OET.8cccc6ae58de402aabbc4611e041741f?w=135&h=135&c=7&rs=1&o=5&pid=1.9\n"
     ]
    },
    {
     "data": {
      "text/markdown": [
       "![](https://tse1-mm.cn.bing.net/th/id/OET.8cccc6ae58de402aabbc4611e041741f?w=135&h=135&c=7&rs=1&o=5&pid=1.9)"
      ],
      "text/plain": [
       "<IPython.core.display.Markdown object>"
      ]
     },
     "metadata": {},
     "output_type": "display_data"
    },
    {
     "name": "stdout",
     "output_type": "stream",
     "text": [
      "/rs/5h/L6/ic/4907366b/da274d75.png\n"
     ]
    },
    {
     "data": {
      "text/markdown": [
       "![](/rs/5h/L6/ic/4907366b/da274d75.png)"
      ],
      "text/plain": [
       "<IPython.core.display.Markdown object>"
      ]
     },
     "metadata": {},
     "output_type": "display_data"
    }
   ],
   "source": [
    "from requests_html import HTMLSession\n",
    "\n",
    "session = HTMLSession()\n",
    "\n",
    "r = session.get(\"https://cn.bing.com/images/trending\")\n",
    "\n",
    "# 通过xpath找到工作标签\n",
    "items = r.html.xpath('//img/@src')\n",
    "\n",
    "for url in items:\n",
    "    print(url)  # 获得图片src url\n",
    "    display(Markdown('![]({url})'.format(url=url)))  # 展示图片    "
   ]
  },
  {
   "cell_type": "markdown",
   "metadata": {
    "slideshow": {
     "slide_type": "slide"
    }
   },
   "source": [
    "\n",
    "## 总结你学到什麽新东西？\n",
    "* A\n",
    "* B\n",
    "* C\n",
    "\n",
    "\n",
    "## 总结你想会做什麽？\n",
    "* A\n",
    "* B\n",
    "* C\n"
   ]
  },
  {
   "cell_type": "markdown",
   "metadata": {
    "slideshow": {
     "slide_type": "fragment"
    }
   },
   "source": [
    "---\n",
    "结束\n",
    "# 小结 😍😲😙🤭😱"
   ]
  },
  {
   "cell_type": "code",
   "execution_count": null,
   "metadata": {},
   "outputs": [],
   "source": []
  }
 ],
 "metadata": {
  "celltoolbar": "Slideshow",
  "kernelspec": {
   "display_name": "Python 3",
   "language": "python",
   "name": "python3"
  },
  "language_info": {
   "codemirror_mode": {
    "name": "ipython",
    "version": 3
   },
   "file_extension": ".py",
   "mimetype": "text/x-python",
   "name": "python",
   "nbconvert_exporter": "python",
   "pygments_lexer": "ipython3",
   "version": "3.7.3"
  },
  "toc": {
   "base_numbering": 1,
   "nav_menu": {},
   "number_sections": true,
   "sideBar": true,
   "skip_h1_title": false,
   "title_cell": "Table of Contents",
   "title_sidebar": "Contents",
   "toc_cell": false,
   "toc_position": {
    "height": "calc(100% - 180px)",
    "left": "10px",
    "top": "150px",
    "width": "256px"
   },
   "toc_section_display": true,
   "toc_window_display": true
  }
 },
 "nbformat": 4,
 "nbformat_minor": 2
}
