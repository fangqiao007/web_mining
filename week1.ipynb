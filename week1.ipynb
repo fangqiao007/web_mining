from requests_html import HTMLSession
#1、 使用session抓页面
session = HTMLSession()
r = session.get("https://news.cnblogs.com/n/recommend")

#2、使用.find (CSS selector; r.html.find)
# 通过CSS找到新闻标签
news = r.html.find('h2.news_entry > a')

#3、输出结果
for new in news:
    print(new.text)  # 获得新闻标题
    print(new.absolute_links)  # 获得新闻链接


from requests_html import HTMLSession
session = HTMLSession()
r = session.get("https://www.liepin.com/zhaopin/?key=用户研究")

# 通过xpath找到工作标签
news = r.html.xpath('//div[@class="job-info"]/h3/a')
#// 表示从匹配选择的当前节点选择文档中的节点，而不考虑它们的位置；/表示从根节点选取；

for new in news:
    print(new.text)  # 获得工作标题
    print(new.absolute_links)  # 获得工作链接


from requests_html import HTMLSession
session = HTMLSession()

r = session.get("https://www.liepin.com/zhaopin/?key=投资经理")

# 通过xpath找到工作标签
news = r.html.find('.job-info')

for new in news :
    print(new.text)  # 获得工作标题
    print(new.absolute_links)  # 获得工作链接 
